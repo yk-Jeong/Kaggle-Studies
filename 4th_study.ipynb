{
  "nbformat": 4,
  "nbformat_minor": 0,
  "metadata": {
    "colab": {
      "name": "4th_study.ipynb",
      "provenance": [],
      "collapsed_sections": [],
      "authorship_tag": "ABX9TyNPbeXcDj7WQOwYa5q04Pvd",
      "include_colab_link": true
    },
    "kernelspec": {
      "name": "python3",
      "display_name": "Python 3"
    },
    "language_info": {
      "name": "python"
    }
  },
  "cells": [
    {
      "cell_type": "markdown",
      "metadata": {
        "id": "view-in-github",
        "colab_type": "text"
      },
      "source": [
        "<a href=\"https://colab.research.google.com/github/yk-Jeong/Kaggle-Studies/blob/main/4th_study.ipynb\" target=\"_parent\"><img src=\"https://colab.research.google.com/assets/colab-badge.svg\" alt=\"Open In Colab\"/></a>"
      ]
    },
    {
      "cell_type": "markdown",
      "metadata": {
        "id": "WjF88DGIChNL"
      },
      "source": [
        "KBO 타자 OPS 예측 경진대회"
      ]
    },
    {
      "cell_type": "markdown",
      "metadata": {
        "id": "wixLZZMQClAB"
      },
      "source": [
        "1. 2 탐색적 데이터 분석"
      ]
    },
    {
      "cell_type": "markdown",
      "metadata": {
        "id": "4UJjPwDSCnvX"
      },
      "source": [
        "lib load "
      ]
    },
    {
      "cell_type": "code",
      "metadata": {
        "id": "PFI39QxUCkgP"
      },
      "source": [
        "import pandas as pd\n",
        "import numpy as np\n",
        "import platform\n",
        "\n",
        "import matplotlib\n",
        "import matplotlib.pyplot as plt\n",
        "from matplotlib import font_manager, rc\n",
        "import seaborn as sns"
      ],
      "execution_count": 1,
      "outputs": []
    },
    {
      "cell_type": "code",
      "metadata": {
        "id": "-SeLovXhnIxs"
      },
      "source": [
        "if platform.system() == 'Windows':\n",
        "  font_name = font_manager.FontProperties(fname='c:/Windows/Fonts/malgun.ttf').get_name()\n",
        "  rc('font', family=font_name)"
      ],
      "execution_count": null,
      "outputs": []
    }
  ]
}
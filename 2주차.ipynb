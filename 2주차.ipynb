{
  "nbformat": 4,
  "nbformat_minor": 0,
  "metadata": {
    "colab": {
      "name": "2주차.ipynb",
      "provenance": [],
      "collapsed_sections": []
    },
    "kernelspec": {
      "name": "python3",
      "display_name": "Python 3"
    },
    "language_info": {
      "name": "python"
    }
  },
  "cells": [
    {
      "cell_type": "code",
      "metadata": {
        "id": "83Y4WdJehAjm"
      },
      "source": [
        "import numpy as np\n",
        "import pandas as pd\n",
        "from pandas import Series\n",
        "import matplotlib.pyplot as plt\n",
        "import seaborn as sns"
      ],
      "execution_count": null,
      "outputs": []
    },
    {
      "cell_type": "code",
      "metadata": {
        "id": "nvSxUPq0hinl"
      },
      "source": [
        "#seaborn의 font_scale을 활용해 폰트 크기를 통일할 수 있음\n",
        "plt.style.use('seaborn')\n",
        "sns.set(font_scale=1.5) "
      ],
      "execution_count": null,
      "outputs": []
    },
    {
      "cell_type": "code",
      "metadata": {
        "id": "_wAY18G6hu9D"
      },
      "source": [
        "#plotly 활용\n",
        "import plotly.offline as py\n",
        "py.init_notebook_mode(connected=True)\n",
        "import plotly.graph_objs as go\n",
        "import plotly.tools as tls"
      ],
      "execution_count": null,
      "outputs": []
    },
    {
      "cell_type": "code",
      "metadata": {
        "id": "OYK5mfvlh2CS"
      },
      "source": [
        "#경고 무시\n",
        "import warnings\n",
        "warnings.filterwarnings('ignore')"
      ],
      "execution_count": null,
      "outputs": []
    },
    {
      "cell_type": "code",
      "metadata": {
        "id": "mRdAp6C7h70o"
      },
      "source": [
        "%matplotlib inline"
      ],
      "execution_count": null,
      "outputs": []
    },
    {
      "cell_type": "code",
      "metadata": {
        "id": "-2anxY-riTPE"
      },
      "source": [
        "df_train = pd.read_csv('data/train.csv')\n",
        "df_test = pd.read_csv('data/train.csv')"
      ],
      "execution_count": null,
      "outputs": []
    },
    {
      "cell_type": "code",
      "metadata": {
        "id": "ngIWtZ5ptnz4"
      },
      "source": [
        "#가족 데이터 제작\n",
        "df_train['FamilySize'] = df_train['SibSp'] + df_train['Parch'] + 1\n",
        "df_test['FamilySize'] = df_test['SibSp'] + df_test['Parch'] + 1"
      ],
      "execution_count": null,
      "outputs": []
    },
    {
      "cell_type": "code",
      "metadata": {
        "id": "rk5tNAT1wxCE"
      },
      "source": [
        "df_test.loc[df_test.Fare.isnull(), 'Fare'] = df_test['Fare'].mean()\n",
        "df_train['Fare'] = df_train['Fare'].map(lambda i: np.log(i) if i > 0 else 0)\n",
        "df_test['Fare'] = df_test['Fare'].map(lambda i: np.log(i) if i > 0 else 0)"
      ],
      "execution_count": null,
      "outputs": []
    },
    {
      "cell_type": "code",
      "metadata": {
        "id": "eyDmClRnxGQj"
      },
      "source": [
        "df_train['Initial'] = df_train.Name.str.extract('([A-Za-z]+)\\.') #salutation을 추출\n",
        "df_test['Initial'] = df_test.Name.str.extract('([A-Za-z]+)\\.')"
      ],
      "execution_count": null,
      "outputs": []
    },
    {
      "cell_type": "code",
      "metadata": {
        "colab": {
          "base_uri": "https://localhost:8080/",
          "height": 103
        },
        "id": "ooLbl-ygxrk2",
        "outputId": "f6470265-12c9-4000-81f4-a4739d7f0039"
      },
      "source": [
        "pd.crosstab(df_train['Initial'], df_train['Sex']).T.style.background_gradient(cmap = 'summer_r')"
      ],
      "execution_count": null,
      "outputs": [
        {
          "output_type": "execute_result",
          "data": {
            "text/html": [
              "<style  type=\"text/css\" >\n",
              "#T_5b8f45a6_1e1d_11ec_8b98_0242ac1c0002row0_col0,#T_5b8f45a6_1e1d_11ec_8b98_0242ac1c0002row0_col1,#T_5b8f45a6_1e1d_11ec_8b98_0242ac1c0002row0_col3,#T_5b8f45a6_1e1d_11ec_8b98_0242ac1c0002row0_col4,#T_5b8f45a6_1e1d_11ec_8b98_0242ac1c0002row0_col5,#T_5b8f45a6_1e1d_11ec_8b98_0242ac1c0002row0_col7,#T_5b8f45a6_1e1d_11ec_8b98_0242ac1c0002row0_col8,#T_5b8f45a6_1e1d_11ec_8b98_0242ac1c0002row0_col12,#T_5b8f45a6_1e1d_11ec_8b98_0242ac1c0002row0_col15,#T_5b8f45a6_1e1d_11ec_8b98_0242ac1c0002row0_col16,#T_5b8f45a6_1e1d_11ec_8b98_0242ac1c0002row1_col2,#T_5b8f45a6_1e1d_11ec_8b98_0242ac1c0002row1_col6,#T_5b8f45a6_1e1d_11ec_8b98_0242ac1c0002row1_col9,#T_5b8f45a6_1e1d_11ec_8b98_0242ac1c0002row1_col10,#T_5b8f45a6_1e1d_11ec_8b98_0242ac1c0002row1_col11,#T_5b8f45a6_1e1d_11ec_8b98_0242ac1c0002row1_col13,#T_5b8f45a6_1e1d_11ec_8b98_0242ac1c0002row1_col14{\n",
              "            background-color:  #ffff66;\n",
              "            color:  #000000;\n",
              "        }#T_5b8f45a6_1e1d_11ec_8b98_0242ac1c0002row0_col2,#T_5b8f45a6_1e1d_11ec_8b98_0242ac1c0002row0_col6,#T_5b8f45a6_1e1d_11ec_8b98_0242ac1c0002row0_col9,#T_5b8f45a6_1e1d_11ec_8b98_0242ac1c0002row0_col10,#T_5b8f45a6_1e1d_11ec_8b98_0242ac1c0002row0_col11,#T_5b8f45a6_1e1d_11ec_8b98_0242ac1c0002row0_col13,#T_5b8f45a6_1e1d_11ec_8b98_0242ac1c0002row0_col14,#T_5b8f45a6_1e1d_11ec_8b98_0242ac1c0002row1_col0,#T_5b8f45a6_1e1d_11ec_8b98_0242ac1c0002row1_col1,#T_5b8f45a6_1e1d_11ec_8b98_0242ac1c0002row1_col3,#T_5b8f45a6_1e1d_11ec_8b98_0242ac1c0002row1_col4,#T_5b8f45a6_1e1d_11ec_8b98_0242ac1c0002row1_col5,#T_5b8f45a6_1e1d_11ec_8b98_0242ac1c0002row1_col7,#T_5b8f45a6_1e1d_11ec_8b98_0242ac1c0002row1_col8,#T_5b8f45a6_1e1d_11ec_8b98_0242ac1c0002row1_col12,#T_5b8f45a6_1e1d_11ec_8b98_0242ac1c0002row1_col15,#T_5b8f45a6_1e1d_11ec_8b98_0242ac1c0002row1_col16{\n",
              "            background-color:  #008066;\n",
              "            color:  #f1f1f1;\n",
              "        }</style><table id=\"T_5b8f45a6_1e1d_11ec_8b98_0242ac1c0002\" ><thead>    <tr>        <th class=\"index_name level0\" >Initial</th>        <th class=\"col_heading level0 col0\" >Capt</th>        <th class=\"col_heading level0 col1\" >Col</th>        <th class=\"col_heading level0 col2\" >Countess</th>        <th class=\"col_heading level0 col3\" >Don</th>        <th class=\"col_heading level0 col4\" >Dr</th>        <th class=\"col_heading level0 col5\" >Jonkheer</th>        <th class=\"col_heading level0 col6\" >Lady</th>        <th class=\"col_heading level0 col7\" >Major</th>        <th class=\"col_heading level0 col8\" >Master</th>        <th class=\"col_heading level0 col9\" >Miss</th>        <th class=\"col_heading level0 col10\" >Mlle</th>        <th class=\"col_heading level0 col11\" >Mme</th>        <th class=\"col_heading level0 col12\" >Mr</th>        <th class=\"col_heading level0 col13\" >Mrs</th>        <th class=\"col_heading level0 col14\" >Ms</th>        <th class=\"col_heading level0 col15\" >Rev</th>        <th class=\"col_heading level0 col16\" >Sir</th>    </tr>    <tr>        <th class=\"index_name level0\" >Sex</th>        <th class=\"blank\" ></th>        <th class=\"blank\" ></th>        <th class=\"blank\" ></th>        <th class=\"blank\" ></th>        <th class=\"blank\" ></th>        <th class=\"blank\" ></th>        <th class=\"blank\" ></th>        <th class=\"blank\" ></th>        <th class=\"blank\" ></th>        <th class=\"blank\" ></th>        <th class=\"blank\" ></th>        <th class=\"blank\" ></th>        <th class=\"blank\" ></th>        <th class=\"blank\" ></th>        <th class=\"blank\" ></th>        <th class=\"blank\" ></th>        <th class=\"blank\" ></th>    </tr></thead><tbody>\n",
              "                <tr>\n",
              "                        <th id=\"T_5b8f45a6_1e1d_11ec_8b98_0242ac1c0002level0_row0\" class=\"row_heading level0 row0\" >female</th>\n",
              "                        <td id=\"T_5b8f45a6_1e1d_11ec_8b98_0242ac1c0002row0_col0\" class=\"data row0 col0\" >0</td>\n",
              "                        <td id=\"T_5b8f45a6_1e1d_11ec_8b98_0242ac1c0002row0_col1\" class=\"data row0 col1\" >0</td>\n",
              "                        <td id=\"T_5b8f45a6_1e1d_11ec_8b98_0242ac1c0002row0_col2\" class=\"data row0 col2\" >1</td>\n",
              "                        <td id=\"T_5b8f45a6_1e1d_11ec_8b98_0242ac1c0002row0_col3\" class=\"data row0 col3\" >0</td>\n",
              "                        <td id=\"T_5b8f45a6_1e1d_11ec_8b98_0242ac1c0002row0_col4\" class=\"data row0 col4\" >1</td>\n",
              "                        <td id=\"T_5b8f45a6_1e1d_11ec_8b98_0242ac1c0002row0_col5\" class=\"data row0 col5\" >0</td>\n",
              "                        <td id=\"T_5b8f45a6_1e1d_11ec_8b98_0242ac1c0002row0_col6\" class=\"data row0 col6\" >1</td>\n",
              "                        <td id=\"T_5b8f45a6_1e1d_11ec_8b98_0242ac1c0002row0_col7\" class=\"data row0 col7\" >0</td>\n",
              "                        <td id=\"T_5b8f45a6_1e1d_11ec_8b98_0242ac1c0002row0_col8\" class=\"data row0 col8\" >0</td>\n",
              "                        <td id=\"T_5b8f45a6_1e1d_11ec_8b98_0242ac1c0002row0_col9\" class=\"data row0 col9\" >182</td>\n",
              "                        <td id=\"T_5b8f45a6_1e1d_11ec_8b98_0242ac1c0002row0_col10\" class=\"data row0 col10\" >2</td>\n",
              "                        <td id=\"T_5b8f45a6_1e1d_11ec_8b98_0242ac1c0002row0_col11\" class=\"data row0 col11\" >1</td>\n",
              "                        <td id=\"T_5b8f45a6_1e1d_11ec_8b98_0242ac1c0002row0_col12\" class=\"data row0 col12\" >0</td>\n",
              "                        <td id=\"T_5b8f45a6_1e1d_11ec_8b98_0242ac1c0002row0_col13\" class=\"data row0 col13\" >125</td>\n",
              "                        <td id=\"T_5b8f45a6_1e1d_11ec_8b98_0242ac1c0002row0_col14\" class=\"data row0 col14\" >1</td>\n",
              "                        <td id=\"T_5b8f45a6_1e1d_11ec_8b98_0242ac1c0002row0_col15\" class=\"data row0 col15\" >0</td>\n",
              "                        <td id=\"T_5b8f45a6_1e1d_11ec_8b98_0242ac1c0002row0_col16\" class=\"data row0 col16\" >0</td>\n",
              "            </tr>\n",
              "            <tr>\n",
              "                        <th id=\"T_5b8f45a6_1e1d_11ec_8b98_0242ac1c0002level0_row1\" class=\"row_heading level0 row1\" >male</th>\n",
              "                        <td id=\"T_5b8f45a6_1e1d_11ec_8b98_0242ac1c0002row1_col0\" class=\"data row1 col0\" >1</td>\n",
              "                        <td id=\"T_5b8f45a6_1e1d_11ec_8b98_0242ac1c0002row1_col1\" class=\"data row1 col1\" >2</td>\n",
              "                        <td id=\"T_5b8f45a6_1e1d_11ec_8b98_0242ac1c0002row1_col2\" class=\"data row1 col2\" >0</td>\n",
              "                        <td id=\"T_5b8f45a6_1e1d_11ec_8b98_0242ac1c0002row1_col3\" class=\"data row1 col3\" >1</td>\n",
              "                        <td id=\"T_5b8f45a6_1e1d_11ec_8b98_0242ac1c0002row1_col4\" class=\"data row1 col4\" >6</td>\n",
              "                        <td id=\"T_5b8f45a6_1e1d_11ec_8b98_0242ac1c0002row1_col5\" class=\"data row1 col5\" >1</td>\n",
              "                        <td id=\"T_5b8f45a6_1e1d_11ec_8b98_0242ac1c0002row1_col6\" class=\"data row1 col6\" >0</td>\n",
              "                        <td id=\"T_5b8f45a6_1e1d_11ec_8b98_0242ac1c0002row1_col7\" class=\"data row1 col7\" >2</td>\n",
              "                        <td id=\"T_5b8f45a6_1e1d_11ec_8b98_0242ac1c0002row1_col8\" class=\"data row1 col8\" >40</td>\n",
              "                        <td id=\"T_5b8f45a6_1e1d_11ec_8b98_0242ac1c0002row1_col9\" class=\"data row1 col9\" >0</td>\n",
              "                        <td id=\"T_5b8f45a6_1e1d_11ec_8b98_0242ac1c0002row1_col10\" class=\"data row1 col10\" >0</td>\n",
              "                        <td id=\"T_5b8f45a6_1e1d_11ec_8b98_0242ac1c0002row1_col11\" class=\"data row1 col11\" >0</td>\n",
              "                        <td id=\"T_5b8f45a6_1e1d_11ec_8b98_0242ac1c0002row1_col12\" class=\"data row1 col12\" >517</td>\n",
              "                        <td id=\"T_5b8f45a6_1e1d_11ec_8b98_0242ac1c0002row1_col13\" class=\"data row1 col13\" >0</td>\n",
              "                        <td id=\"T_5b8f45a6_1e1d_11ec_8b98_0242ac1c0002row1_col14\" class=\"data row1 col14\" >0</td>\n",
              "                        <td id=\"T_5b8f45a6_1e1d_11ec_8b98_0242ac1c0002row1_col15\" class=\"data row1 col15\" >6</td>\n",
              "                        <td id=\"T_5b8f45a6_1e1d_11ec_8b98_0242ac1c0002row1_col16\" class=\"data row1 col16\" >1</td>\n",
              "            </tr>\n",
              "    </tbody></table>"
            ],
            "text/plain": [
              "<pandas.io.formats.style.Styler at 0x7f7e4343c290>"
            ]
          },
          "metadata": {},
          "execution_count": 20
        }
      ]
    },
    {
      "cell_type": "code",
      "metadata": {
        "id": "ocip1ShLx6zJ"
      },
      "source": [
        "#호칭을 통일\n",
        "df_train['Initial'].replace(['Mlle', 'Mme', 'Ms', 'Dr', 'Major', 'Lady', 'Countess', 'Jonkheer', 'Col', 'Rev', 'Capt', 'Sir', 'Don', 'Dona'], ['Miss', 'Miss', 'Miss', 'Mr', 'Mr', 'Mrs', 'Mrs', 'Other', 'Other', 'Other', 'Mr', 'Mr', 'Mr', 'Mr'], inplace = True)\n",
        "df_test['Initial'].replace(['Mlle', 'Mme', 'Ms', 'Dr', 'Major', 'Lady', 'Countess', 'Jonkheer', 'Col', 'Rev', 'Capt', 'Sir', 'Don', 'Dona'], ['Miss', 'Miss', 'Miss', 'Mr', 'Mr', 'Mrs', 'Mrs', 'Other', 'Other', 'Other', 'Mr', 'Mr', 'Mr', 'Mr'], inplace = True)"
      ],
      "execution_count": null,
      "outputs": []
    },
    {
      "cell_type": "code",
      "metadata": {
        "colab": {
          "base_uri": "https://localhost:8080/",
          "height": 266
        },
        "id": "aoFQmUzzyiKE",
        "outputId": "273ea9e2-4004-439f-c163-ff89f3e92c97"
      },
      "source": [
        "df_train.groupby('Initial').mean()"
      ],
      "execution_count": null,
      "outputs": [
        {
          "output_type": "execute_result",
          "data": {
            "text/html": [
              "<div>\n",
              "<style scoped>\n",
              "    .dataframe tbody tr th:only-of-type {\n",
              "        vertical-align: middle;\n",
              "    }\n",
              "\n",
              "    .dataframe tbody tr th {\n",
              "        vertical-align: top;\n",
              "    }\n",
              "\n",
              "    .dataframe thead th {\n",
              "        text-align: right;\n",
              "    }\n",
              "</style>\n",
              "<table border=\"1\" class=\"dataframe\">\n",
              "  <thead>\n",
              "    <tr style=\"text-align: right;\">\n",
              "      <th></th>\n",
              "      <th>PassengerId</th>\n",
              "      <th>Survived</th>\n",
              "      <th>Pclass</th>\n",
              "      <th>Age</th>\n",
              "      <th>SibSp</th>\n",
              "      <th>Parch</th>\n",
              "      <th>Fare</th>\n",
              "      <th>FamilySize</th>\n",
              "    </tr>\n",
              "    <tr>\n",
              "      <th>Initial</th>\n",
              "      <th></th>\n",
              "      <th></th>\n",
              "      <th></th>\n",
              "      <th></th>\n",
              "      <th></th>\n",
              "      <th></th>\n",
              "      <th></th>\n",
              "      <th></th>\n",
              "    </tr>\n",
              "  </thead>\n",
              "  <tbody>\n",
              "    <tr>\n",
              "      <th>Master</th>\n",
              "      <td>414.975000</td>\n",
              "      <td>0.575000</td>\n",
              "      <td>2.625000</td>\n",
              "      <td>4.574167</td>\n",
              "      <td>2.300000</td>\n",
              "      <td>1.375000</td>\n",
              "      <td>3.340710</td>\n",
              "      <td>4.675000</td>\n",
              "    </tr>\n",
              "    <tr>\n",
              "      <th>Miss</th>\n",
              "      <td>408.864130</td>\n",
              "      <td>0.701087</td>\n",
              "      <td>2.298913</td>\n",
              "      <td>21.831081</td>\n",
              "      <td>0.706522</td>\n",
              "      <td>0.543478</td>\n",
              "      <td>3.113425</td>\n",
              "      <td>2.250000</td>\n",
              "    </tr>\n",
              "    <tr>\n",
              "      <th>Mlle</th>\n",
              "      <td>676.500000</td>\n",
              "      <td>1.000000</td>\n",
              "      <td>1.000000</td>\n",
              "      <td>24.000000</td>\n",
              "      <td>0.000000</td>\n",
              "      <td>0.000000</td>\n",
              "      <td>4.070251</td>\n",
              "      <td>1.000000</td>\n",
              "    </tr>\n",
              "    <tr>\n",
              "      <th>Mr</th>\n",
              "      <td>455.880907</td>\n",
              "      <td>0.162571</td>\n",
              "      <td>2.381853</td>\n",
              "      <td>32.739609</td>\n",
              "      <td>0.293006</td>\n",
              "      <td>0.151229</td>\n",
              "      <td>2.651507</td>\n",
              "      <td>1.444234</td>\n",
              "    </tr>\n",
              "    <tr>\n",
              "      <th>Mrs</th>\n",
              "      <td>456.393701</td>\n",
              "      <td>0.795276</td>\n",
              "      <td>1.984252</td>\n",
              "      <td>35.981818</td>\n",
              "      <td>0.692913</td>\n",
              "      <td>0.818898</td>\n",
              "      <td>3.443751</td>\n",
              "      <td>2.511811</td>\n",
              "    </tr>\n",
              "    <tr>\n",
              "      <th>Other</th>\n",
              "      <td>564.444444</td>\n",
              "      <td>0.111111</td>\n",
              "      <td>1.666667</td>\n",
              "      <td>45.888889</td>\n",
              "      <td>0.111111</td>\n",
              "      <td>0.111111</td>\n",
              "      <td>2.641605</td>\n",
              "      <td>1.222222</td>\n",
              "    </tr>\n",
              "  </tbody>\n",
              "</table>\n",
              "</div>"
            ],
            "text/plain": [
              "         PassengerId  Survived    Pclass  ...     Parch      Fare  FamilySize\n",
              "Initial                                   ...                                \n",
              "Master    414.975000  0.575000  2.625000  ...  1.375000  3.340710    4.675000\n",
              "Miss      408.864130  0.701087  2.298913  ...  0.543478  3.113425    2.250000\n",
              "Mlle      676.500000  1.000000  1.000000  ...  0.000000  4.070251    1.000000\n",
              "Mr        455.880907  0.162571  2.381853  ...  0.151229  2.651507    1.444234\n",
              "Mrs       456.393701  0.795276  1.984252  ...  0.818898  3.443751    2.511811\n",
              "Other     564.444444  0.111111  1.666667  ...  0.111111  2.641605    1.222222\n",
              "\n",
              "[6 rows x 8 columns]"
            ]
          },
          "metadata": {},
          "execution_count": 23
        }
      ]
    },
    {
      "cell_type": "code",
      "metadata": {
        "colab": {
          "base_uri": "https://localhost:8080/",
          "height": 358
        },
        "id": "ZkvblgGjyuGP",
        "outputId": "e420b7d5-6a31-4748-873f-c722e0a93a49"
      },
      "source": [
        "df_train.groupby('Initial')['Survived'].mean().plot.bar()"
      ],
      "execution_count": null,
      "outputs": [
        {
          "output_type": "execute_result",
          "data": {
            "text/plain": [
              "<matplotlib.axes._subplots.AxesSubplot at 0x7f7e4278b690>"
            ]
          },
          "metadata": {},
          "execution_count": 28
        },
        {
          "output_type": "display_data",
          "data": {
            "image/png": "[encoded data removed]",
            "text/plain": [
              "<Figure size 432x288 with 1 Axes>"
            ]
          },
          "metadata": {
            "needs_background": "light"
          }
        }
      ]
    },
    {
      "cell_type": "markdown",
      "metadata": {
        "id": "2vR0kz_HzFJt"
      },
      "source": [
        "**결측치 채우기**"
      ]
    },
    {
      "cell_type": "code",
      "metadata": {
        "id": "VTgnJI3uzAB1"
      },
      "source": [
        ""
      ],
      "execution_count": null,
      "outputs": []
    }
  ]
}
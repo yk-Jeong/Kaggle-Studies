{
  "nbformat": 4,
  "nbformat_minor": 0,
  "metadata": {
    "colab": {
      "name": "9th_객체 탐지 (Object Detection) - YOLO.ipynb",
      "provenance": [],
      "collapsed_sections": [
        "IZnxALKYfP8s",
        "5zMP3ecSU1pa",
        "kTDOrbKYkSyh",
        "9TNopqHBmh2T",
        "Eprofi5rbUuA",
        "zL1IEr71bWE_",
        "7qWbjby_DwuF"
      ],
      "machine_shape": "hm",
      "include_colab_link": true
    },
    "kernelspec": {
      "display_name": "Python 3",
      "name": "python3"
    }
  },
  "cells": [
    {
      "cell_type": "markdown",
      "metadata": {
        "id": "view-in-github",
        "colab_type": "text"
      },
      "source": [
        "<a href=\"https://colab.research.google.com/github/yk-Jeong/Kaggle-Studies/blob/main/9th_%EA%B0%9D%EC%B2%B4_%ED%83%90%EC%A7%80_(Object_Detection)_YOLO.ipynb\" target=\"_parent\"><img src=\"https://colab.research.google.com/assets/colab-badge.svg\" alt=\"Open In Colab\"/></a>"
      ]
    },
    {
      "cell_type": "markdown",
      "metadata": {
        "id": "xL799-9jT1W7"
      },
      "source": [
        "- 참조 : https://github.com/wikibook/dl-vision"
      ]
    },
    {
      "cell_type": "markdown",
      "metadata": {
        "id": "aE7-X_QfSm0G"
      },
      "source": [
        "# 객체 탐지 (Object Detection)\n",
        "\n",
        "- 한 이미지에서 **객체**와 그 **경계 상자**(bounding box)를 탐지\n",
        "\n",
        "- 객체 탐지 알고리즘은 일반적으로 *이미지를 입력*으로 받고, *경계 상자*와 *객체 클래스 리스트*를 출력\n",
        "\n",
        "- 경계 상자에 대해 그에 대응하는 **예측 클래스**와 클래스의 **신뢰도**(confidence)를 출력\n",
        "\n",
        "## Applications\n",
        "\n",
        "- 자율 주행 자동차에서 다른 자동차와 보행자를 찾을 때\n",
        "\n",
        "- 의료 분야에서 방사선 사진을 사용해 종양이나 위험한 조직을 찾을 때\n",
        "\n",
        "- 제조업에서 조립 로봇이 제품을 조립하거나 수리할 때\n",
        "\n",
        "- 보안 산업에서 위협을 탐지하거나 사람을 셀 때"
      ]
    },
    {
      "cell_type": "markdown",
      "metadata": {
        "id": "4LGNVEwnfNjn"
      },
      "source": [
        "## 용어 설명"
      ]
    },
    {
      "cell_type": "markdown",
      "metadata": {
        "id": "IZnxALKYfP8s"
      },
      "source": [
        "### Bounding Box\n",
        "\n",
        "- 이미지에서 하나의 객체 전체를 포함하는 가장 작은 직사각형\n",
        "\n",
        "  <img src=\"https://miro.medium.com/max/850/1*KL6r494Eyfh3iYEXQA2tzg.png\">\n",
        "\n",
        "  <sub>[이미지 출처] https://medium.com/anolytics/how-bounding-box-annotation-helps-object-detection-in-machine-learning-use-cases-431d93e7b25b</sub>"
      ]
    },
    {
      "cell_type": "markdown",
      "metadata": {
        "id": "nx5ViAXvwcWS"
      },
      "source": [
        "### IOU(Intersection Over Union)\n",
        "- 실측값(Ground Truth)과 모델이 예측한 값이 얼마나 겹치는지를 나타내는 지표\n",
        "\n",
        "  <img src=\"https://pyimagesearch.com/wp-content/uploads/2016/09/iou_equation.png\" width=\"300\">\n",
        "\n",
        "- IOU가 높을수록 잘 예측한 모델\n",
        "\n",
        "  <img src=\"https://pyimagesearch.com/wp-content/uploads/2016/09/iou_examples.png\" width=\"400\">\n",
        "\n",
        "<br>\n",
        "\n",
        "- 예시\n",
        "  <img src=\"https://www.pyimagesearch.com/wp-content/uploads/2016/09/iou_stop_sign.jpg\">\n",
        "\n",
        "  <sub>[이미지 출처] https://www.pyimagesearch.com/2016/11/07/intersection-over-union-iou-for-object-detection/</sub>"
      ]
    },
    {
      "cell_type": "code",
      "metadata": {
        "id": "bHVxK0LXqd74"
      },
      "source": [
        "def compute_iou(pred_box, gt_box): #예측값과 실제 값을 입력받으면\n",
        "  x1 = np.maximum(pred_box[0], gt_box[0])\n",
        "  y1 = np.maximum(pred_box[1], gt_box[1])\n",
        "  x2 = np.maximum(pred_box[2], gt_box[2])\n",
        "  y2 = np.maximum(pred_box[3], gt_box[3])\n",
        "  \n",
        "  intersection = np.maximum(x2 - x1, 0) * np.maximum(y2 - y1, 0)\n",
        "\n",
        "  pred_box_area = (pred_box[2] - pred_box[0]) * (pred_box[3] - pred_box[1])\n",
        "  gt_box_area = (gt_box[2] - gt_box[0]) * (gt_box[3] - gt_box[1])\n",
        "\n",
        "  union = pred_box_area + gt_box_area - intersection_area\n",
        "  iou = intersection / union\n",
        "\n",
        "  return "
      ],
      "execution_count": 1,
      "outputs": []
    },
    {
      "cell_type": "markdown",
      "metadata": {
        "id": "fKL2Ae7SoYDs"
      },
      "source": [
        "### NMS(Non-Maximum Suppression, 비최댓값 억제)\n",
        "\n",
        "- 확률이 가장 높은 상자와 겹치는 상자들을 제거하는 과정\n",
        "\n",
        "- 최댓값을 갖지 않는 상자들을 제거\n",
        "\n",
        "- 과정\n",
        "\n",
        "  1. 확률 기준으로 모든 상자를 정렬하고 먼저 가장 확률이 높은 상자를 취함\n",
        "\n",
        "  2. 각 상자에 대해 다른 모든 상자와의 IOU를 계산\n",
        "\n",
        "  3. 특정 임곗값을 넘는 상자는 제거\n",
        "\n",
        "  <img src=\"https://pyimagesearch.com/wp-content/uploads/2014/10/nms_fast_03.jpg\">\n",
        "\n",
        "  <sub>[이미지 출처] https://www.pyimagesearch.com/2015/02/16/faster-non-maximum-suppression-python/</sub>"
      ]
    },
    {
      "cell_type": "code",
      "metadata": {
        "id": "WTh_WYA0tUBz"
      },
      "source": [
        "import numpy as np"
      ],
      "execution_count": 2,
      "outputs": []
    },
    {
      "cell_type": "code",
      "source": [
        "def non_max_supression_fast(boxes, overlap_thresh):\n",
        "  if len(boxes) == 0:\n",
        "    return None\n",
        "  if boxes.dtype.kind == 'i': #int type의 box는 float type으로 변경\n",
        "    boxes = boxes.astype('float')\n",
        "\n",
        "  pick = [] #값을 담을 빈 리스트를 하나 생성\n",
        "  x1 = boxes[:, 0]\n",
        "  y1 = boxes[:, 1]\n",
        "  x2 = boxes[:, 2]\n",
        "  y2 = boxes[:, 3]\n",
        "\n",
        "  area = (x2 - x1 + 1) * (y2 - y1 + 1) #왜 +1 하는가?\n",
        "  idxs = np.argsort(y2) #정렬 \n",
        "\n",
        "  while len(idxs) > 0: #idx의 길이가 양수인 동안에는 \n",
        "    last = len(idxs) - 1\n",
        "    i = idxs[last]\n",
        "    pick.append(i)\n",
        "\n",
        "    #좌표 설정\n",
        "    xx1 = np.maximum(x1[i], x1[idxs[:last]])\n",
        "    yy1 = np.maximum(y1[i], y1[idxs[:last]])\n",
        "    xx2 = np.maximum(x2[i], x2[idxs[:last]])\n",
        "    yy2 = np.maximum(y2[i], y2[idxs[:last]])\n",
        "\n",
        "    #여기서 왜 np.maximum 쓰는지 이해하지 못함 \n",
        "    w = np.maximum(0, xx2 - xx1 + 1)\n",
        "    h = np.maximum(0, yy2 - yy1 + 1)\n",
        "\n",
        "    overlap = (w * h) / area[idxs[:last]]\n",
        "\n",
        "    idxs = np.delete(idxs, np.concatenate(([last], np.where(overlap > overlap_thresh)[0])))\n",
        "    #np.where로 조건 설정\n",
        "    \n",
        "  return boxes[pick].astype('int')"
      ],
      "metadata": {
        "id": "XW2cG4oqjXE5"
      },
      "execution_count": 3,
      "outputs": []
    },
    {
      "cell_type": "markdown",
      "metadata": {
        "id": "WSLe74EnU6zQ"
      },
      "source": [
        "## 모델 성능 평가"
      ]
    },
    {
      "cell_type": "markdown",
      "metadata": {
        "id": "5zMP3ecSU1pa"
      },
      "source": [
        "### 정밀도와 재현율\n",
        "\n",
        "\n",
        "- 일반적으로 객체 탐지 모델 평가에 사용되지는 않지만, 다른 지표를 계산하는 기본 지표 역할을 함\n",
        "\n",
        "  - `TP` \n",
        "\n",
        "    - True Positives\n",
        "\n",
        "    - 예측이 동일 클래스의 실제 상자와 일치하는지 측정\n",
        "\n",
        "  - `FP`\n",
        "\n",
        "    - False Positives\n",
        "\n",
        "    - 예측이 실제 상자와 일치하지 않는지 측정\n",
        "\n",
        "  - `FN`\n",
        "\n",
        "    - False Negatives\n",
        "\n",
        "    - 실제 분류값이 그와 일치하는 예측을 갖지 못하는지 측정\n",
        "\n",
        "<br>\n",
        "\n",
        "## $\\qquad precision = \\frac{TP}{TP \\ + \\ FP}$\n",
        "## $\\qquad recall = \\frac{TP}{TP \\ + \\ FN}$\n",
        "\n",
        "  - 모델이 안정적이지 않은 특징을 기반으로 객체 존재를 예측하면 거짓긍정(FP)이 많아져서 정밀도가 낮아짐\n",
        "\n",
        "  - 모델이 너무 엄격해서 정확한 조건을 만족할 때만 객체가 탐지된 것으로 간주하면 거짓부정(FN)이 많아져서 재현율이 낮아짐\n",
        "\n"
      ]
    },
    {
      "cell_type": "markdown",
      "metadata": {
        "id": "kTDOrbKYkSyh"
      },
      "source": [
        "### 정밀도-재현율 곡선(precision-recall curve) \n",
        "\n",
        "- 신뢰도 임곗값마다 모델의 정밀도와 재현율을 시각화\n",
        "\n",
        "- 모든 bounding box와 함께 모델이 예측의 정확성을 얼마나 확실하는지 0 ~ 1사이의 숫자로 나타내는 신뢰도를 출력\n",
        "\n",
        "- 임계값 T에 따라 정밀도와 재현율이 달라짐\n",
        "\n",
        "  - 임곗값 T 이하의 예측은 제거함\n",
        "\n",
        "  - T가 1에 가까우면 정밀도는 높지만 재현율은 낮음  \n",
        "    놓치는 객체가 많아져서 재현율이 낮아짐. 즉, 신뢰도가 높은 예측만 유지하기때문에 정밀도는 높아짐\n",
        "\n",
        "  - T가 0에 가까우면 정밀도는 낮지만 재현율은 높음  \n",
        "    대부분의 예측을 유지하기때문에 재현율은 높아지고, 거짓긍정(FP)이 많아져서 정밀도가 낮아짐\n",
        "\n",
        "- 예를 들어, 모델이 보행자를 탐지하고 있으면 특별한 이유없이 차를 세우더라도 어떤 보행자도 놓치지 않도록 재현율을 높여야 함\n",
        "  모델이 투자 기회를 탐지하고 있다면 일부 기회를 놓치게 되더라도 잘못된 기회에 돈을 거는 일을 피하기 위해 정밀도를 높여야 함\n",
        "\n",
        "<img src=\"https://www.researchgate.net/profile/Davide_Chicco/publication/321672019/figure/fig1/AS:614279602511886@1523467078452/a-Example-of-Precision-Recall-curve-with-the-precision-score-on-the-y-axis-and-the.png\">\n",
        "\n",
        "<sub>[이미지 출처] https://www.researchgate.net/figure/a-Example-of-Precision-Recall-curve-with-the-precision-score-on-the-y-axis-and-the_fig1_321672019</sub>"
      ]
    },
    {
      "cell_type": "markdown",
      "metadata": {
        "id": "9TNopqHBmh2T"
      },
      "source": [
        "### AP (Average Precision, 평균 정밀도) 와 mAP(mean Average Precision)\n",
        "\n",
        "- 곡선의 아래 영역에 해당\n",
        "\n",
        "- 항상 1x1 정사각형으로 구성되어 있음  \n",
        "  즉, 항상 0 ~ 1 사이의 값을 가짐\n",
        "\n",
        "- 단일 클래스에 대한 모델 성능 정보를 제공\n",
        "\n",
        "- 전역 점수를 얻기위해서 mAP를 사용\n",
        "\n",
        "- 예를 들어, 데이터셋이 10개의 클래스로 구성된다면 각 클래스에 대한 AP를 계산하고, 그 숫자들의 평균을 다시 구함\n",
        "\n",
        "- (참고)\n",
        "\n",
        "  - 최소 2개 이상의 객체를 탐지하는 대회인 PASCAL Visual Object Classes와 Common Objects in Context(COCO)에서 mAP가 사용됨\n",
        "\n",
        "  - COCO 데이터셋이 더 많은 클래스를 포함하고 있기 때문에 보통 Pascal VOC보다 점수가 더 낮게 나옴\n",
        "\n",
        "  - 예시\n",
        "\n",
        "    <img src=\"https://www.researchgate.net/profile/Bong_Nam_Kang/publication/328939155/figure/tbl2/AS:692891936649218@1542209719916/Evaluation-on-PASCAL-VOC-2007-and-MS-COCO-test-dev.png\">\n",
        "\n",
        "    <sub>[이미지 출처] https://www.researchgate.net/figure/Evaluation-on-PASCAL-VOC-2007-and-MS-COCO-test-dev_tbl2_328939155</sub>"
      ]
    },
    {
      "cell_type": "markdown",
      "metadata": {
        "id": "KN1jyyGEkTvx"
      },
      "source": [
        "## Dataset"
      ]
    },
    {
      "cell_type": "markdown",
      "metadata": {
        "id": "Eprofi5rbUuA"
      },
      "source": [
        "### VOC\n",
        "\n",
        "- 2005년부터 2012년까지 진행\n",
        "\n",
        "- Object Detection 기술의 benchmark로 간주\n",
        "\n",
        "- 데이터셋에는 20개의 클래스가 존재\n",
        "\n",
        "      background\n",
        "      aeroplane\n",
        "      bicycle\n",
        "      bird\n",
        "      boat\n",
        "      bottle\n",
        "      bus\n",
        "      car\n",
        "      cat\n",
        "      chair\n",
        "      cow\n",
        "      diningtable\n",
        "      dog\n",
        "      horse\n",
        "      motorbike\n",
        "      person\n",
        "      pottedplant\n",
        "      sheep\n",
        "      sofa\n",
        "      train\n",
        "      tvmonitor\n",
        "\n",
        "- 훈련 및 검증 데이터 : 11,530개\n",
        "\n",
        "- ROI에 대한 27,450개의 Annotation이 존재\n",
        "\n",
        "- 이미지당 2.4개의 객체 존재\n",
        "\n",
        "  <img src=\"https://paperswithcode.github.io/sotabench-eval/img/pascalvoc2012.png\">\n",
        "\n",
        "  <sub>[이미지 출처] https://paperswithcode.github.io/sotabench-eval/pascalvoc/</sub>"
      ]
    },
    {
      "cell_type": "markdown",
      "metadata": {
        "id": "zL1IEr71bWE_"
      },
      "source": [
        "### COCO Dataset\n",
        "\n",
        "- Common Objects in Context\n",
        "\n",
        "- 200,000개의 이미지 \n",
        "\n",
        "- 80개의 카테고리에 500,000개 이상의 객체 Annotation이 존재\n",
        "      person\n",
        "      bicycle\n",
        "      car\n",
        "      motorbike\n",
        "      aeroplane\n",
        "      bus\n",
        "      train\n",
        "      truck\n",
        "      boat\n",
        "      traffic light\n",
        "      fire hydrant\n",
        "      stop sign\n",
        "      parking meter\n",
        "      bench\n",
        "      bird\n",
        "      cat\n",
        "      dog\n",
        "      horse\n",
        "      sheep\n",
        "      cow\n",
        "      elephant\n",
        "      bear\n",
        "      zebra\n",
        "      giraffe\n",
        "      backpack\n",
        "      umbrella\n",
        "      handbag\n",
        "      tie\n",
        "      suitcase\n",
        "      frisbee\n",
        "      skis\n",
        "      snowboard\n",
        "      sports ball\n",
        "      kite\n",
        "      baseball bat\n",
        "      baseball glove\n",
        "      skateboard\n",
        "      surfboard\n",
        "      tennis racket\n",
        "      bottle\n",
        "      wine glass\n",
        "      cup\n",
        "      fork\n",
        "      knife\n",
        "      spoon\n",
        "      bowl\n",
        "      banana\n",
        "      apple\n",
        "      sandwich\n",
        "      orange\n",
        "      broccoli\n",
        "      carrot\n",
        "      hot dog\n",
        "      pizza\n",
        "      donut\n",
        "      cake\n",
        "      chair\n",
        "      sofa\n",
        "      pottedplant\n",
        "      bed\n",
        "      diningtable\n",
        "      toilet\n",
        "      tvmonitor\n",
        "      laptop\n",
        "      mouse\n",
        "      remote\n",
        "      keyboard\n",
        "      cell phone\n",
        "      microwave\n",
        "      oven\n",
        "      toaster\n",
        "      sink\n",
        "      refrigerator\n",
        "      book\n",
        "      clock\n",
        "      vase\n",
        "      scissors\n",
        "      teddy bear\n",
        "      hair drier\n",
        "      toothbrush\n",
        "- https://cocodataset.org/#home\n",
        "\n",
        "<img src=\"https://cocodataset.org/images/coco-examples.jpg\">\n",
        "\n"
      ]
    },
    {
      "cell_type": "markdown",
      "metadata": {
        "id": "EMmlbrpjeD6e"
      },
      "source": [
        "# YOLO (You Only Look Once)\n",
        "\n",
        "- 가장 빠른 객체 검출 알고리즘 중 하나\n",
        "\n",
        "- 256x256 사이즈의 이미지\n",
        "\n",
        "- GPU 사용 시, 초당 170프레임(170**FPS**, **frames per second**),  \n",
        "  이는 파이썬, 텐서플로 기반 프레임워크가 아닌 C++로 구현된 코드 기준\n",
        "\n",
        "- 작은 크기의 물체를 탐지하는데는 어려움\n",
        "\n",
        "<img src=\"https://miro.medium.com/max/1400/1*bSLNlG7crv-p-m4LVYYk3Q.png\" width=\"600\">\n",
        "\n",
        "\n",
        "- https://pjreddie.com/darknet/yolo/\n",
        "\n",
        "- 자세한 내용 참조 : https://www.kaggle.com/aruchomu/yolo-v3-object-detection-in-tensorflow"
      ]
    },
    {
      "cell_type": "markdown",
      "metadata": {
        "id": "txORxnfIAegL"
      },
      "source": [
        "## YOLO Backbone\n",
        "\n",
        "- 백본 모델(backbone model) 기반\n",
        "\n",
        "- 특징 추출기(Feature Extractor)라고도 불림\n",
        "\n",
        "- YOLO는 자체 맞춤 아키텍쳐 사용\n",
        "\n",
        "- 어떤 특징 추출기 아키텍쳐를 사용했는지에 따라 성능 달라짐\n",
        "\n",
        "  <img src=\"https://www.researchgate.net/publication/335865923/figure/fig1/AS:804106595758082@1568725360777/Structure-detail-of-YOLOv3It-uses-Darknet-53-as-the-backbone-network-and-uses-three.jpg\">\n",
        "\n",
        "  <sub>[이미지 출처] https://www.researchgate.net/figure/Structure-detail-of-YOLOv3It-uses-Darknet-53-as-the-backbone-network-and-uses-three_fig1_335865923</sub>\n",
        "\n",
        "- 마지막 계층은 크기가 $w \\times h \\times D$인 특징 볼륨 출력\n",
        "\n",
        "- $w \\times h $는 그리드의 크기이고, $D$는 특징 볼륨 깊이\n",
        "\n"
      ]
    },
    {
      "cell_type": "markdown",
      "source": [
        "*residual, upsampling, convolution 등 사용함*"
      ],
      "metadata": {
        "id": "VZ9HN7ljQKfg"
      }
    },
    {
      "cell_type": "markdown",
      "metadata": {
        "id": "7qWbjby_DwuF"
      },
      "source": [
        "## YOLO의 계층 출력\n",
        "\n",
        "- 마지막 계층 출력은 $w \\times h \\times M$ 행렬\n",
        "  \n",
        "  - $M = B \\times (C + 5)$\n",
        "\n",
        "    - B : 그리드 셀당 경계 상자 개수\n",
        "\n",
        "    - C : 클래스 개수\n",
        "\n",
        "  - 클래스 개수에 5를 더한 이유는 해당 값 만큼의 숫자를 예측해야 하기 때문\n",
        "\n",
        "    - $t_x$, $t_y$는 경계상자의 중심 좌표를 계산\n",
        "\n",
        "    - $t_w$, $t_h$는 경계상자의 너비와 높이를 계산\n",
        "\n",
        "    - $c$는 객체가 경계 상자 안에 있다고 확신하는 신뢰도\n",
        "\n",
        "    - $p1, p2, ..., pC$는 경계상자가 클래스 1, 2, ..., C의 객체를 포함할 확률\n",
        "  \n",
        "  <br>\n",
        "\n",
        "  <img src=\"https://www.researchgate.net/profile/Thi_Le3/publication/337705605/figure/fig3/AS:831927326089217@1575358339500/Structure-of-one-output-cell-in-YOLO.ppm\">\n",
        "\n",
        "  <sub>[이미지 출처] https://www.researchgate.net/figure/Structure-of-one-output-cell-in-YOLO_fig3_337705605</sub>"
      ]
    },
    {
      "cell_type": "markdown",
      "metadata": {
        "id": "AarR-8M1kkAc"
      },
      "source": [
        "## 앵커 박스(Anchor Box)\n",
        "\n",
        "- YOLOv2에서 도입\n",
        "\n",
        "- 사전 정의된 상자(prior box)\n",
        "\n",
        "- 객체에 가장 근접한 앵커 박스를 맞추고 신경망을 사용해 앵커 박스의 크기를 조정하는 과정 때문에 $t_x, t_y, t_w, t_h$이 필요\n",
        "\n",
        "  <img src=\"https://kr.mathworks.com/help/vision/ug/ssd_detection.png\">\n",
        "\n",
        "  <sub>[이미지 출처] https://kr.mathworks.com/help/vision/ug/getting-started-with-yolo-v2.html</sub>"
      ]
    },
    {
      "cell_type": "markdown",
      "metadata": {
        "id": "CdToZZ3xokiM"
      },
      "source": [
        "# YOLOv3 Inference 연습 : tensorflow 2\n",
        "\n",
        "- 코드 참조 : https://github.com/zzh8829/yolov3-tf2"
      ]
    },
    {
      "cell_type": "markdown",
      "metadata": {
        "id": "3B8C3YpS4n2a"
      },
      "source": [
        "## Clone and install dependencies"
      ]
    },
    {
      "cell_type": "code",
      "metadata": {
        "id": "qb3jBxF9x-JR",
        "colab": {
          "base_uri": "https://localhost:8080/",
          "height": 1000
        },
        "outputId": "33698199-1d1a-4b03-b06d-b1315dd306ee"
      },
      "source": [
        "!git clone https://github.com/zzh8829/yolov3-tf2 \n",
        "%cd yolov3-tf2\n",
        "!pip install -r requirements-gpu.txt"
      ],
      "execution_count": 4,
      "outputs": [
        {
          "output_type": "stream",
          "name": "stdout",
          "text": [
            "fatal: destination path 'yolov3-tf2' already exists and is not an empty directory.\n",
            "/content/yolov3-tf2\n",
            "Obtaining file:///content/yolov3-tf2 (from -r requirements-gpu.txt (line 6))\n",
            "Requirement already satisfied: tensorflow-gpu==2.5.1 in /usr/local/lib/python3.7/dist-packages (from -r requirements-gpu.txt (line 1)) (2.5.1)\n",
            "Requirement already satisfied: opencv-python==4.2.0.32 in /usr/local/lib/python3.7/dist-packages (from -r requirements-gpu.txt (line 2)) (4.2.0.32)\n",
            "Requirement already satisfied: lxml in /usr/local/lib/python3.7/dist-packages (from -r requirements-gpu.txt (line 3)) (4.2.6)\n",
            "Requirement already satisfied: tqdm in /usr/local/lib/python3.7/dist-packages (from -r requirements-gpu.txt (line 4)) (4.62.3)\n",
            "Requirement already satisfied: keras-preprocessing~=1.1.2 in /usr/local/lib/python3.7/dist-packages (from tensorflow-gpu==2.5.1->-r requirements-gpu.txt (line 1)) (1.1.2)\n",
            "Requirement already satisfied: typing-extensions~=3.7.4 in /usr/local/lib/python3.7/dist-packages (from tensorflow-gpu==2.5.1->-r requirements-gpu.txt (line 1)) (3.7.4.3)\n",
            "Requirement already satisfied: flatbuffers~=1.12.0 in /usr/local/lib/python3.7/dist-packages (from tensorflow-gpu==2.5.1->-r requirements-gpu.txt (line 1)) (1.12)\n",
            "Requirement already satisfied: six~=1.15.0 in /usr/local/lib/python3.7/dist-packages (from tensorflow-gpu==2.5.1->-r requirements-gpu.txt (line 1)) (1.15.0)\n",
            "Requirement already satisfied: wrapt~=1.12.1 in /usr/local/lib/python3.7/dist-packages (from tensorflow-gpu==2.5.1->-r requirements-gpu.txt (line 1)) (1.12.1)\n",
            "Requirement already satisfied: tensorflow-estimator<2.6.0,>=2.5.0 in /usr/local/lib/python3.7/dist-packages (from tensorflow-gpu==2.5.1->-r requirements-gpu.txt (line 1)) (2.5.0)\n",
            "Requirement already satisfied: protobuf>=3.9.2 in /usr/local/lib/python3.7/dist-packages (from tensorflow-gpu==2.5.1->-r requirements-gpu.txt (line 1)) (3.17.3)\n",
            "Requirement already satisfied: absl-py~=0.10 in /usr/local/lib/python3.7/dist-packages (from tensorflow-gpu==2.5.1->-r requirements-gpu.txt (line 1)) (0.15.0)\n",
            "Requirement already satisfied: h5py~=3.1.0 in /usr/local/lib/python3.7/dist-packages (from tensorflow-gpu==2.5.1->-r requirements-gpu.txt (line 1)) (3.1.0)\n",
            "Requirement already satisfied: opt-einsum~=3.3.0 in /usr/local/lib/python3.7/dist-packages (from tensorflow-gpu==2.5.1->-r requirements-gpu.txt (line 1)) (3.3.0)\n",
            "Requirement already satisfied: grpcio~=1.34.0 in /usr/local/lib/python3.7/dist-packages (from tensorflow-gpu==2.5.1->-r requirements-gpu.txt (line 1)) (1.34.1)\n",
            "Requirement already satisfied: termcolor~=1.1.0 in /usr/local/lib/python3.7/dist-packages (from tensorflow-gpu==2.5.1->-r requirements-gpu.txt (line 1)) (1.1.0)\n",
            "Collecting numpy~=1.19.2\n",
            "  Using cached numpy-1.19.5-cp37-cp37m-manylinux2010_x86_64.whl (14.8 MB)\n",
            "Requirement already satisfied: tensorboard~=2.5 in /usr/local/lib/python3.7/dist-packages (from tensorflow-gpu==2.5.1->-r requirements-gpu.txt (line 1)) (2.8.0)\n",
            "Requirement already satisfied: astunparse~=1.6.3 in /usr/local/lib/python3.7/dist-packages (from tensorflow-gpu==2.5.1->-r requirements-gpu.txt (line 1)) (1.6.3)\n",
            "Collecting keras-nightly~=2.5.0.dev\n",
            "  Using cached keras_nightly-2.5.0.dev2021032900-py2.py3-none-any.whl (1.2 MB)\n",
            "Requirement already satisfied: wheel~=0.35 in /usr/local/lib/python3.7/dist-packages (from tensorflow-gpu==2.5.1->-r requirements-gpu.txt (line 1)) (0.37.1)\n",
            "Requirement already satisfied: google-pasta~=0.2 in /usr/local/lib/python3.7/dist-packages (from tensorflow-gpu==2.5.1->-r requirements-gpu.txt (line 1)) (0.2.0)\n",
            "Requirement already satisfied: gast==0.4.0 in /usr/local/lib/python3.7/dist-packages (from tensorflow-gpu==2.5.1->-r requirements-gpu.txt (line 1)) (0.4.0)\n",
            "Requirement already satisfied: cached-property in /usr/local/lib/python3.7/dist-packages (from h5py~=3.1.0->tensorflow-gpu==2.5.1->-r requirements-gpu.txt (line 1)) (1.5.2)\n",
            "Requirement already satisfied: requests<3,>=2.21.0 in /usr/local/lib/python3.7/dist-packages (from tensorboard~=2.5->tensorflow-gpu==2.5.1->-r requirements-gpu.txt (line 1)) (2.23.0)\n",
            "Requirement already satisfied: tensorboard-plugin-wit>=1.6.0 in /usr/local/lib/python3.7/dist-packages (from tensorboard~=2.5->tensorflow-gpu==2.5.1->-r requirements-gpu.txt (line 1)) (1.8.1)\n",
            "Requirement already satisfied: google-auth-oauthlib<0.5,>=0.4.1 in /usr/local/lib/python3.7/dist-packages (from tensorboard~=2.5->tensorflow-gpu==2.5.1->-r requirements-gpu.txt (line 1)) (0.4.6)\n",
            "Requirement already satisfied: setuptools>=41.0.0 in /usr/local/lib/python3.7/dist-packages (from tensorboard~=2.5->tensorflow-gpu==2.5.1->-r requirements-gpu.txt (line 1)) (57.4.0)\n",
            "Requirement already satisfied: tensorboard-data-server<0.7.0,>=0.6.0 in /usr/local/lib/python3.7/dist-packages (from tensorboard~=2.5->tensorflow-gpu==2.5.1->-r requirements-gpu.txt (line 1)) (0.6.1)\n",
            "Requirement already satisfied: werkzeug>=0.11.15 in /usr/local/lib/python3.7/dist-packages (from tensorboard~=2.5->tensorflow-gpu==2.5.1->-r requirements-gpu.txt (line 1)) (1.0.1)\n",
            "Requirement already satisfied: google-auth<3,>=1.6.3 in /usr/local/lib/python3.7/dist-packages (from tensorboard~=2.5->tensorflow-gpu==2.5.1->-r requirements-gpu.txt (line 1)) (1.35.0)\n",
            "Requirement already satisfied: markdown>=2.6.8 in /usr/local/lib/python3.7/dist-packages (from tensorboard~=2.5->tensorflow-gpu==2.5.1->-r requirements-gpu.txt (line 1)) (3.3.6)\n",
            "Requirement already satisfied: cachetools<5.0,>=2.0.0 in /usr/local/lib/python3.7/dist-packages (from google-auth<3,>=1.6.3->tensorboard~=2.5->tensorflow-gpu==2.5.1->-r requirements-gpu.txt (line 1)) (4.2.4)\n",
            "Requirement already satisfied: pyasn1-modules>=0.2.1 in /usr/local/lib/python3.7/dist-packages (from google-auth<3,>=1.6.3->tensorboard~=2.5->tensorflow-gpu==2.5.1->-r requirements-gpu.txt (line 1)) (0.2.8)\n",
            "Requirement already satisfied: rsa<5,>=3.1.4 in /usr/local/lib/python3.7/dist-packages (from google-auth<3,>=1.6.3->tensorboard~=2.5->tensorflow-gpu==2.5.1->-r requirements-gpu.txt (line 1)) (4.8)\n",
            "Requirement already satisfied: requests-oauthlib>=0.7.0 in /usr/local/lib/python3.7/dist-packages (from google-auth-oauthlib<0.5,>=0.4.1->tensorboard~=2.5->tensorflow-gpu==2.5.1->-r requirements-gpu.txt (line 1)) (1.3.1)\n",
            "Requirement already satisfied: importlib-metadata>=4.4 in /usr/local/lib/python3.7/dist-packages (from markdown>=2.6.8->tensorboard~=2.5->tensorflow-gpu==2.5.1->-r requirements-gpu.txt (line 1)) (4.10.1)\n",
            "Requirement already satisfied: zipp>=0.5 in /usr/local/lib/python3.7/dist-packages (from importlib-metadata>=4.4->markdown>=2.6.8->tensorboard~=2.5->tensorflow-gpu==2.5.1->-r requirements-gpu.txt (line 1)) (3.7.0)\n",
            "Requirement already satisfied: pyasn1<0.5.0,>=0.4.6 in /usr/local/lib/python3.7/dist-packages (from pyasn1-modules>=0.2.1->google-auth<3,>=1.6.3->tensorboard~=2.5->tensorflow-gpu==2.5.1->-r requirements-gpu.txt (line 1)) (0.4.8)\n",
            "Requirement already satisfied: certifi>=2017.4.17 in /usr/local/lib/python3.7/dist-packages (from requests<3,>=2.21.0->tensorboard~=2.5->tensorflow-gpu==2.5.1->-r requirements-gpu.txt (line 1)) (2021.10.8)\n",
            "Requirement already satisfied: idna<3,>=2.5 in /usr/local/lib/python3.7/dist-packages (from requests<3,>=2.21.0->tensorboard~=2.5->tensorflow-gpu==2.5.1->-r requirements-gpu.txt (line 1)) (2.10)\n",
            "Requirement already satisfied: urllib3!=1.25.0,!=1.25.1,<1.26,>=1.21.1 in /usr/local/lib/python3.7/dist-packages (from requests<3,>=2.21.0->tensorboard~=2.5->tensorflow-gpu==2.5.1->-r requirements-gpu.txt (line 1)) (1.24.3)\n",
            "Requirement already satisfied: chardet<4,>=3.0.2 in /usr/local/lib/python3.7/dist-packages (from requests<3,>=2.21.0->tensorboard~=2.5->tensorflow-gpu==2.5.1->-r requirements-gpu.txt (line 1)) (3.0.4)\n",
            "Requirement already satisfied: oauthlib>=3.0.0 in /usr/local/lib/python3.7/dist-packages (from requests-oauthlib>=0.7.0->google-auth-oauthlib<0.5,>=0.4.1->tensorboard~=2.5->tensorflow-gpu==2.5.1->-r requirements-gpu.txt (line 1)) (3.2.0)\n",
            "Installing collected packages: numpy, keras-nightly, yolov3-tf2\n",
            "  Attempting uninstall: numpy\n",
            "    Found existing installation: numpy 1.21.5\n",
            "    Uninstalling numpy-1.21.5:\n",
            "      Successfully uninstalled numpy-1.21.5\n",
            "  Attempting uninstall: yolov3-tf2\n",
            "    Found existing installation: yolov3-tf2 0.1\n",
            "    Can't uninstall 'yolov3-tf2'. No files were found to uninstall.\n",
            "  Running setup.py develop for yolov3-tf2\n",
            "\u001b[31mERROR: pip's dependency resolver does not currently take into account all the packages that are installed. This behaviour is the source of the following dependency conflicts.\n",
            "tensorflow 2.8.0 requires numpy>=1.20, but you have numpy 1.19.5 which is incompatible.\n",
            "datascience 0.10.6 requires folium==0.2.1, but you have folium 0.8.3 which is incompatible.\n",
            "albumentations 0.1.12 requires imgaug<0.2.7,>=0.2.5, but you have imgaug 0.2.9 which is incompatible.\u001b[0m\n",
            "Successfully installed keras-nightly-2.5.0.dev2021032900 numpy-1.19.5 yolov3-tf2-0.1\n"
          ]
        },
        {
          "output_type": "display_data",
          "data": {
            "application/vnd.colab-display-data+json": {
              "pip_warning": {
                "packages": [
                  "numpy"
                ]
              }
            }
          },
          "metadata": {}
        }
      ]
    },
    {
      "cell_type": "code",
      "metadata": {
        "id": "FONrNLUIx-ML",
        "colab": {
          "base_uri": "https://localhost:8080/"
        },
        "outputId": "3d8eea59-1283-49d8-bf7e-dc6ff9983adf"
      },
      "source": [
        "!ls #설치 후 확인"
      ],
      "execution_count": 5,
      "outputs": [
        {
          "output_type": "stream",
          "name": "stdout",
          "text": [
            "checkpoints\t data\t\t  README.md\t\ttrain.py\n",
            "colab_gpu.ipynb  detect.py\t  requirements-gpu.txt\tyolov3_tf2\n",
            "conda-cpu.yml\t detect_video.py  requirements.txt\tyolov3_tf2.egg-info\n",
            "conda-gpu.yml\t docs\t\t  setup.py\n",
            "convert.py\t LICENSE\t  tools\n"
          ]
        }
      ]
    },
    {
      "cell_type": "markdown",
      "metadata": {
        "id": "y2QJVUyc4io-"
      },
      "source": [
        "## Check Tensorflow2 version"
      ]
    },
    {
      "cell_type": "code",
      "source": [
        "!pip uninstall -y tensorflow keras tf-nightly keras-nightly\n",
        "!pip install tensorflow"
      ],
      "metadata": {
        "colab": {
          "base_uri": "https://localhost:8080/"
        },
        "id": "yvHSbDmKDf0y",
        "outputId": "daadbf2a-70a3-4aad-f349-7c73ec561d1f"
      },
      "execution_count": null,
      "outputs": [
        {
          "output_type": "stream",
          "name": "stdout",
          "text": [
            "Found existing installation: tensorflow 2.8.0\n",
            "Uninstalling tensorflow-2.8.0:\n",
            "  Successfully uninstalled tensorflow-2.8.0\n",
            "Found existing installation: keras 2.8.0\n",
            "Uninstalling keras-2.8.0:\n",
            "  Successfully uninstalled keras-2.8.0\n",
            "\u001b[33mWARNING: Skipping tf-nightly as it is not installed.\u001b[0m\n",
            "Found existing installation: keras-nightly 2.5.0.dev2021032900\n",
            "Uninstalling keras-nightly-2.5.0.dev2021032900:\n",
            "  Successfully uninstalled keras-nightly-2.5.0.dev2021032900\n"
          ]
        }
      ]
    },
    {
      "cell_type": "code",
      "metadata": {
        "id": "41me-hpBx-fD"
      },
      "source": [
        "import tensorflow as tf\n",
        "tf.__version__"
      ],
      "execution_count": null,
      "outputs": []
    },
    {
      "cell_type": "markdown",
      "metadata": {
        "id": "1Z-L1V51ziJE"
      },
      "source": [
        "## Convert Pretrained Darknet Weight\n",
        "\n",
        "- https://pjreddie.com/media/files/yolov3.weights\n",
        "- `yolov3.weights`를 `/yolov3-tf2/data/`로 넣기"
      ]
    },
    {
      "cell_type": "code",
      "metadata": {
        "id": "hq6yz4Mpx--B"
      },
      "source": [
        "!get https://pjreddie.com/media/files/yolov3.weights -0 data/yolov3.weights\n",
        "!python convert.py"
      ],
      "execution_count": null,
      "outputs": []
    },
    {
      "cell_type": "markdown",
      "metadata": {
        "id": "Mcz5iiyrzY9j"
      },
      "source": [
        "## Initial Detector"
      ]
    },
    {
      "cell_type": "code",
      "metadata": {
        "id": "8Rt1bEf4x-7e"
      },
      "source": [
        "import sys\n",
        "from absl import app, logging, flags #1이 아니고 l임\n",
        "from absl.flags import FLAGS\n",
        "import time\n",
        "import cv2\n",
        "import numpy as np\n",
        "import tensorflow as tf\n",
        "from yolov3_tf2.models import YoloV3, YoloV3Tiny\n",
        "from yolov3_tf2.dataset import transform_images, load_tfrecord_dataset\n",
        "from yolov3_tf2.utils import draw_outputs"
      ],
      "execution_count": null,
      "outputs": []
    },
    {
      "cell_type": "code",
      "metadata": {
        "id": "y1f5SWy4x-5I"
      },
      "source": [
        "flags.DEFINE_string('classes', './data/coco.names', 'path to classes file')\n",
        "flags.DEFINE_string('weight', './checkpoints/yolov3.tf', 'path to wieghts file')\n",
        "flags.DEFINE_boolean('tiny', False, 'yolov3 or yolov3-tiny')\n",
        "flags.DEFINE_integer('size', 416, 'resize images to')\n",
        "flags.DEFINE_string('image', './data/girl.png', 'path to input image')\n",
        "flags.DEFINE_string('tfrecord', None, 'tfrecord instead of image')\n",
        "flags.DEFINE_string('output', './output.jpg', 'path to output image')\n",
        "flags.DEFINE_integer('num_classes', 80, 'number of classes in the model')"
      ],
      "execution_count": null,
      "outputs": []
    },
    {
      "cell_type": "code",
      "source": [
        "app._run_init(['yolov3']. app.parse_flags_with_usage)\n",
        "\n",
        "physical_devices = tf.config.experimental.list_physical_devices('GPU')\n",
        "tf.config.experimental.set_memory_growth(physical_devices[0], True)"
      ],
      "metadata": {
        "id": "1idQjPGWI2pZ"
      },
      "execution_count": null,
      "outputs": []
    },
    {
      "cell_type": "markdown",
      "metadata": {
        "id": "0qBaqsEG41l_"
      },
      "source": [
        "## Detect Image"
      ]
    },
    {
      "cell_type": "code",
      "metadata": {
        "id": "LbPOCGuxx-2t"
      },
      "source": [
        "FLAGS.image = 'data/mem.jpg'"
      ],
      "execution_count": null,
      "outputs": []
    },
    {
      "cell_type": "code",
      "metadata": {
        "id": "Hsa4Dklsx-0_"
      },
      "source": [
        "if FLAGS.tiny:\n",
        "  yolo = YoloV3Tiny(classes = FLAGS.num_classes)\n",
        "else:\n",
        "  yolo = YoloV3(classese=FLAGS.num_classes)\n",
        "\n",
        "yolo.load_weights(FLAGS.weights).expect_partial()\n",
        "logging.info('weights loaded') #로그인 기록\n",
        "\n",
        "class_names = [c.strip() for c in open(FLAGS.classes).readlines()]\n",
        "logging.info('classes loaded')"
      ],
      "execution_count": null,
      "outputs": []
    },
    {
      "cell_type": "code",
      "metadata": {
        "id": "pkvDwZsux-yN"
      },
      "source": [
        "img_raw = tf.image.decode_image(open(FLAGS.image, 'rb').read(), channels = 3)\n",
        "img = tf.expand_dims(img_raw, 0)\n",
        "img = transform_images(img, FLAGS.size)\n",
        "\n",
        "t1 = time.time()\n",
        "boxes, scores, classes, nums = yolo(img)\n",
        "t2 = time.time()\n",
        "logging.info('time:{}'.format(t2 - t1))\n",
        "\n",
        "logging.info('detections: ')\n",
        "for i in range(nums[0]):\n",
        "  logging.info('  {}, {}, {}'.format(class_names[int(classes[0][i])], \n",
        "                                     np.array(scores[0][i]),\n",
        "                                     np.array(boxes[0][i])))\n",
        "img = cv2.cvtColor(img_raw.numpy(), cv2.COLOR_RGB2BGR)\n",
        "img = draw_outputs(img, (boxes, scores, classes, nums), class_names)"
      ],
      "execution_count": null,
      "outputs": []
    },
    {
      "cell_type": "code",
      "metadata": {
        "id": "CfKcTD_Ax-v7"
      },
      "source": [
        "from IPython.display import Image, display\n",
        "\n",
        "display(Image(data=bytes(cv2.imencode('.jpg', img)[1]), width=800))"
      ],
      "execution_count": null,
      "outputs": []
    },
    {
      "cell_type": "markdown",
      "metadata": {
        "id": "oLr782wcsFVT"
      },
      "source": [
        "# YOLOv3 inference 연습 : Pytorch \n",
        "\n",
        "- video inference\n",
        "- 코드 참조 : https://towardsdatascience.com/yolov3-pytorch-on-google-colab-c4a79eeecdea\n",
        "- https://github.com/ultralytics/yolov3"
      ]
    },
    {
      "cell_type": "markdown",
      "metadata": {
        "id": "yK71PKqk4aTH"
      },
      "source": [
        "## Prepare YOLOv3-pytorch"
      ]
    },
    {
      "cell_type": "code",
      "metadata": {
        "id": "HrC5-LmG3F6E"
      },
      "source": [
        "%cd /content/\n",
        "%pwd"
      ],
      "execution_count": null,
      "outputs": []
    },
    {
      "cell_type": "code",
      "metadata": {
        "id": "tgl_VY_Tq97I"
      },
      "source": [
        "!git clone https://github.com/ultralytics/yolov3"
      ],
      "execution_count": null,
      "outputs": []
    },
    {
      "cell_type": "code",
      "metadata": {
        "id": "R897GokLq95E"
      },
      "source": [
        "%cd yolov3"
      ],
      "execution_count": null,
      "outputs": []
    },
    {
      "cell_type": "code",
      "metadata": {
        "id": "1NfJM0tw3TFa"
      },
      "source": [
        "import time\n",
        "import glob\n",
        "import torch\n",
        "import os\n",
        "\n",
        "import argparse\n",
        "from sys import platform\n",
        "\n",
        "from models import *\n",
        "from utils.datasets import *\n",
        "from utils.torch_utils import *\n",
        "\n",
        "from IPython.display import HTML #비디오 출력을 위해\n",
        "from base64 import b64encode"
      ],
      "execution_count": null,
      "outputs": []
    },
    {
      "cell_type": "code",
      "metadata": {
        "id": "Mrlt91dYq915"
      },
      "source": [
        "parser = argparse.ArgumentParser()\n",
        "parser.add_argument('--cfg', type=str, default='cfg/yolov3-spp.cfg', help = '*.cfg path')\n",
        "parser.add_argument('--names', type=str, default='data/coco.names', help = '*.names path')\n",
        "parser.add_argument('--weights', type=str, default='weights/yolov3-spp-ultralytics.pt', help = 'weights path')\n",
        "parser.add_argument('--img-size', type=int, default=416, help = 'inference size (pixels)')\n",
        "parser.add_argument('--conf-thres', type=float, default=0.3, help = 'object confidence threshold')\n",
        "parser.add_argument('--iou-thres', type=float, default=0.6, help = 'IOU threshold for NMS')\n",
        "parser.add_argument('--device', default='', help = 'device id (i.e. 0 or 0, 1) or cpu')\n",
        "parser.add_argument('--classes', nargs = '+', type = int, help = 'filter by class')\n",
        "parser.add_argument('--agnostic-mns', action='store_true', help='class0agnostic NMS')\n",
        "opt = parser.parse_args(args = [])\n",
        "\n",
        "weights = opt.weights\n",
        "img_size = opt.img_size"
      ],
      "execution_count": null,
      "outputs": []
    },
    {
      "cell_type": "code",
      "metadata": {
        "id": "T0lpUVOdq9zn"
      },
      "source": [
        "device = torch_utils.select_device(device = 'cpu' if ONIX_EXPORT else opt.device)\n",
        "model = Darknet(opt.cfg, img_size)\n",
        "attemp_download(weights)\n",
        "if weights.endswith('.pt'):\n",
        "  model.load_state_dict(torch.load(weights, map_location = device)['model'])\n",
        "else:\n",
        "  load_darknet_weights(model, weights)\n",
        "\n",
        "model.to(device).eval();\n",
        "\n",
        "names = load_classes(opt.names)\n",
        "colors = [[random.randint(0, 255) for _ in range(3)] for _ in range(len(names))]"
      ],
      "execution_count": null,
      "outputs": []
    },
    {
      "cell_type": "code",
      "metadata": {
        "id": "fbUVelkiszUD"
      },
      "source": [
        "%cd .."
      ],
      "execution_count": null,
      "outputs": []
    },
    {
      "cell_type": "code",
      "metadata": {
        "id": "wwhHYatUq9xx"
      },
      "source": [
        "def predict_one_video(path_video, output_dir='output'):\n",
        "  if not os.path.exists(output_dir):\n",
        "    os.makedirs(output_dir)\n",
        "\n",
        "  cap = cv2.VideoCapture(path_video)\n",
        "  _, img0 = cap.read()\n",
        "\n",
        "  save_path = os.path.join(output_dir, os.path.split(path_video)[-1])\n",
        "  fps = cap.get(cv2.CAP_PROP_FPS)\n",
        "  w = int(cap.get(cv2.CAP_FRAME_WIDTH))\n",
        "  h = int(cap.get(cv2.CAP_FRAME_HEIGHT))\n",
        "  vid_writer = cv2.VideoWriter(save_path, cv2.VideoWriter_fourcc(*'MP4V'), fps, (w, h))\n",
        "\n",
        "  while img0 is not None:\n",
        "    img = letterbox(img0, new_shape = opt.img.size)[0]\n",
        "\n",
        "    img = img[:, :, ::-1].transpose(2, 0, 1)\n",
        "    img = np.ascontinguousarry(img)\n",
        "\n",
        "    img = torch.from_numpy(img).to(device)\n",
        "    img = img.float()\n",
        "    img /= 255.0\n",
        "\n",
        "    if img.ndimension() == 3:\n",
        "      img  = img.unsqueeze(0)\n",
        "\n",
        "    pred = model(img)[0]\n",
        "\n",
        "    pred = non_max_suppression(pred, opt.conf_thres, opt.iou_thres, classes = opt.classes, agnostic = opt.agnostic_nms)\n",
        "\n",
        "    #detection\n",
        "    for i, det in enumerate(pred):\n",
        "      im0 = img0 #이거 왜하는거임 \n",
        "      \n",
        "      if det is not None and len(det):\n",
        "        det[:, :4] = scale_coords(img.shape[2:], det[:, :4], im0.shape).round() #box rescale\n",
        "\n",
        "        for *xyxy, conf, cls in det:\n",
        "          label = '%s %.2f'% (names[int(cls)], conf)\n",
        "          plot_one_box(xyxy, im0, label = label, color = colors[int(cls)])\n",
        "\n",
        "    vid_writer.write(im0)\n",
        "    _, img0 - cap.read()\n",
        "\n",
        "  vid_writer.release()\n",
        "\n",
        "  return save_path\n",
        "        "
      ],
      "execution_count": null,
      "outputs": []
    },
    {
      "cell_type": "markdown",
      "metadata": {
        "id": "PlEcyGxh3iOI"
      },
      "source": [
        "## Git clone to get short videos\n",
        "\n",
        "- https://github.com/vindruid/yolov3-in-colab.git"
      ]
    },
    {
      "cell_type": "code",
      "metadata": {
        "id": "WoslGlSkq9vo"
      },
      "source": [
        "!git clone https://github.com/vindruid/yolov3-in-colab.git\n",
        "!cp -r 'yolov3-in-colab'/input_video/* ./input_video/"
      ],
      "execution_count": null,
      "outputs": []
    },
    {
      "cell_type": "markdown",
      "metadata": {
        "id": "pRqM_huM3pIS"
      },
      "source": [
        "## Process Video"
      ]
    },
    {
      "cell_type": "code",
      "metadata": {
        "id": "WNVhPZ0Jq9s5"
      },
      "source": [
        "!mkdir -p input_video\n",
        "!mkdir -p output_compressed"
      ],
      "execution_count": null,
      "outputs": []
    },
    {
      "cell_type": "code",
      "metadata": {
        "id": "LC2axiin3nja"
      },
      "source": [
        "path_video = os.path.join('/content/yolov3-in-colab/input_video', 'opera_house.mp4')\n",
        "save_path = predict_one_video(path_video)"
      ],
      "execution_count": null,
      "outputs": []
    },
    {
      "cell_type": "code",
      "metadata": {
        "id": "IUldkiZA3wQt"
      },
      "source": [
        "print(path_video)"
      ],
      "execution_count": null,
      "outputs": []
    },
    {
      "cell_type": "code",
      "metadata": {
        "id": "EflrkImk3rqF"
      },
      "source": [
        "mp4 = open(path_video, 'rb').read()\n",
        "data_url = 'data:video/mp4;base64,' + b64encode(mp4).decode()\n",
        "HTML(\"\"\"\n",
        "<video width = 400 controls>\n",
        "  <sounce src='%s' type = 'video/mp4'>\n",
        "</video>\n",
        "  \"\"\" % data_url)"
      ],
      "execution_count": null,
      "outputs": []
    },
    {
      "cell_type": "code",
      "metadata": {
        "id": "gd4cy_Gd30gu"
      },
      "source": [
        "#detection 결과 \n",
        "\n",
        "compressed_path = os.path.join('output_compressed', os.path.split(save_path)[-1])\n",
        "os.system(f'ffmpeg -i {save_path} -vcodec libx264 {compressed_path}')\n",
        "\n",
        "mp4 = open(path_video, 'rb').read()\n",
        "data_url = 'data:video/mp4;base64,' + b64encode(mp4).decode()\n",
        "HTML(\"\"\"\n",
        "<video width = 400 controls>\n",
        "  <sounce src='%s' type = 'video/mp4'>\n",
        "</video>\n",
        "  \"\"\" % data_url)"
      ],
      "execution_count": null,
      "outputs": []
    },
    {
      "cell_type": "markdown",
      "metadata": {
        "id": "39Nk92gJ5a4J"
      },
      "source": [
        "- Custom Data Train 참고\n",
        "\n",
        "  - https://github.com/AntonMu/TrainYourOwnYOLO"
      ]
    }
  ]
}
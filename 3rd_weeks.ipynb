{
  "nbformat": 4,
  "nbformat_minor": 0,
  "metadata": {
    "colab": {
      "name": "3rd_weeks.ipynb",
      "provenance": [],
      "collapsed_sections": [],
      "authorship_tag": "ABX9TyN4QI9TL8T9d7XnZ8RPIRXw",
      "include_colab_link": true
    },
    "kernelspec": {
      "name": "python3",
      "display_name": "Python 3"
    },
    "language_info": {
      "name": "python"
    }
  },
  "cells": [
    {
      "cell_type": "markdown",
      "metadata": {
        "id": "view-in-github",
        "colab_type": "text"
      },
      "source": [
        "<a href=\"https://colab.research.google.com/github/yk-Jeong/Kaggle-Studies/blob/main/3rd_weeks.ipynb\" target=\"_parent\"><img src=\"https://colab.research.google.com/assets/colab-badge.svg\" alt=\"Open In Colab\"/></a>"
      ]
    },
    {
      "cell_type": "markdown",
      "metadata": {
        "id": "Hls09C62jwxU"
      },
      "source": [
        "1.0 Data prep"
      ]
    },
    {
      "cell_type": "code",
      "metadata": {
        "id": "kNOfhSmMGQ9m"
      },
      "source": [
        "#https://dacon.io/competitions/official/235590/codeshare/949"
      ],
      "execution_count": 22,
      "outputs": []
    },
    {
      "cell_type": "code",
      "metadata": {
        "id": "rf499mHLjzdL"
      },
      "source": [
        "from IPython.display import HTML\n",
        "import pandas as pd\n",
        "import numpy as np "
      ],
      "execution_count": 23,
      "outputs": []
    },
    {
      "cell_type": "code",
      "metadata": {
        "id": "odW-V2oZj7Tm"
      },
      "source": [
        "import seaborn as sns \n",
        "import matplotlib.pyplot as plt\n",
        "import matplotlib.dates as mdates\n",
        "import matplotlib.animation as animation\n",
        "import plotly.express as px\n",
        "import plotly.io as pio\n",
        "pio.renderers.default = \"notebook_connected\""
      ],
      "execution_count": 24,
      "outputs": []
    },
    {
      "cell_type": "code",
      "metadata": {
        "id": "kyLt4o6SkL_K"
      },
      "source": [
        "from sklearn.preprocessing import LabelEncoder, OneHotEncoder, StandardScaler\n",
        "from sklearn.cluster import KMeans\n",
        "from sklearn.decomposition import PCA"
      ],
      "execution_count": 25,
      "outputs": []
    },
    {
      "cell_type": "code",
      "metadata": {
        "id": "NXy6hRTxkRoV"
      },
      "source": [
        "pd.set_option('display.float_format', lambda x: '%.2f' % x)\n",
        "import warnings\n",
        "warnings.filterwarnings('ignore')"
      ],
      "execution_count": 26,
      "outputs": []
    },
    {
      "cell_type": "code",
      "metadata": {
        "colab": {
          "base_uri": "https://localhost:8080/"
        },
        "id": "AVzUTtw8I3_-",
        "outputId": "18e4f581-c523-4aef-dc4b-f83aebf376b2"
      },
      "source": [
        "from google.colab import drive \n",
        "drive.mount('/content/drive')"
      ],
      "execution_count": 27,
      "outputs": [
        {
          "output_type": "stream",
          "name": "stdout",
          "text": [
            "Drive already mounted at /content/drive; to attempt to forcibly remount, call drive.mount(\"/content/drive\", force_remount=True).\n"
          ]
        }
      ]
    },
    {
      "cell_type": "code",
      "metadata": {
        "colab": {
          "base_uri": "https://localhost:8080/",
          "height": 296
        },
        "id": "0yxHja-4kRbO",
        "outputId": "2192f5f7-4f84-485c-934c-cf17678b4c6d"
      },
      "source": [
        "patient = pd.read_csv('/content/drive/MyDrive/Colab Notebooks/study/data/coronavirusdataset_20200430/PatientInfo.csv')\n",
        "patient.head(5)"
      ],
      "execution_count": 28,
      "outputs": [
        {
          "output_type": "execute_result",
          "data": {
            "text/html": [
              "<div>\n",
              "<style scoped>\n",
              "    .dataframe tbody tr th:only-of-type {\n",
              "        vertical-align: middle;\n",
              "    }\n",
              "\n",
              "    .dataframe tbody tr th {\n",
              "        vertical-align: top;\n",
              "    }\n",
              "\n",
              "    .dataframe thead th {\n",
              "        text-align: right;\n",
              "    }\n",
              "</style>\n",
              "<table border=\"1\" class=\"dataframe\">\n",
              "  <thead>\n",
              "    <tr style=\"text-align: right;\">\n",
              "      <th></th>\n",
              "      <th>patient_id</th>\n",
              "      <th>global_num</th>\n",
              "      <th>sex</th>\n",
              "      <th>birth_year</th>\n",
              "      <th>age</th>\n",
              "      <th>country</th>\n",
              "      <th>province</th>\n",
              "      <th>city</th>\n",
              "      <th>disease</th>\n",
              "      <th>infection_case</th>\n",
              "      <th>infection_order</th>\n",
              "      <th>infected_by</th>\n",
              "      <th>contact_number</th>\n",
              "      <th>symptom_onset_date</th>\n",
              "      <th>confirmed_date</th>\n",
              "      <th>released_date</th>\n",
              "      <th>deceased_date</th>\n",
              "      <th>state</th>\n",
              "    </tr>\n",
              "  </thead>\n",
              "  <tbody>\n",
              "    <tr>\n",
              "      <th>0</th>\n",
              "      <td>1000000001</td>\n",
              "      <td>2.00</td>\n",
              "      <td>male</td>\n",
              "      <td>1964.00</td>\n",
              "      <td>50s</td>\n",
              "      <td>Korea</td>\n",
              "      <td>Seoul</td>\n",
              "      <td>Gangseo-gu</td>\n",
              "      <td>NaN</td>\n",
              "      <td>overseas inflow</td>\n",
              "      <td>1.00</td>\n",
              "      <td>nan</td>\n",
              "      <td>75.00</td>\n",
              "      <td>2020-01-22</td>\n",
              "      <td>2020-01-23</td>\n",
              "      <td>2020-02-05</td>\n",
              "      <td>NaN</td>\n",
              "      <td>released</td>\n",
              "    </tr>\n",
              "    <tr>\n",
              "      <th>1</th>\n",
              "      <td>1000000002</td>\n",
              "      <td>5.00</td>\n",
              "      <td>male</td>\n",
              "      <td>1987.00</td>\n",
              "      <td>30s</td>\n",
              "      <td>Korea</td>\n",
              "      <td>Seoul</td>\n",
              "      <td>Jungnang-gu</td>\n",
              "      <td>NaN</td>\n",
              "      <td>overseas inflow</td>\n",
              "      <td>1.00</td>\n",
              "      <td>nan</td>\n",
              "      <td>31.00</td>\n",
              "      <td>NaN</td>\n",
              "      <td>2020-01-30</td>\n",
              "      <td>2020-03-02</td>\n",
              "      <td>NaN</td>\n",
              "      <td>released</td>\n",
              "    </tr>\n",
              "    <tr>\n",
              "      <th>2</th>\n",
              "      <td>1000000003</td>\n",
              "      <td>6.00</td>\n",
              "      <td>male</td>\n",
              "      <td>1964.00</td>\n",
              "      <td>50s</td>\n",
              "      <td>Korea</td>\n",
              "      <td>Seoul</td>\n",
              "      <td>Jongno-gu</td>\n",
              "      <td>NaN</td>\n",
              "      <td>contact with patient</td>\n",
              "      <td>2.00</td>\n",
              "      <td>2002000001.00</td>\n",
              "      <td>17.00</td>\n",
              "      <td>NaN</td>\n",
              "      <td>2020-01-30</td>\n",
              "      <td>2020-02-19</td>\n",
              "      <td>NaN</td>\n",
              "      <td>released</td>\n",
              "    </tr>\n",
              "    <tr>\n",
              "      <th>3</th>\n",
              "      <td>1000000004</td>\n",
              "      <td>7.00</td>\n",
              "      <td>male</td>\n",
              "      <td>1991.00</td>\n",
              "      <td>20s</td>\n",
              "      <td>Korea</td>\n",
              "      <td>Seoul</td>\n",
              "      <td>Mapo-gu</td>\n",
              "      <td>NaN</td>\n",
              "      <td>overseas inflow</td>\n",
              "      <td>1.00</td>\n",
              "      <td>nan</td>\n",
              "      <td>9.00</td>\n",
              "      <td>2020-01-26</td>\n",
              "      <td>2020-01-30</td>\n",
              "      <td>2020-02-15</td>\n",
              "      <td>NaN</td>\n",
              "      <td>released</td>\n",
              "    </tr>\n",
              "    <tr>\n",
              "      <th>4</th>\n",
              "      <td>1000000005</td>\n",
              "      <td>9.00</td>\n",
              "      <td>female</td>\n",
              "      <td>1992.00</td>\n",
              "      <td>20s</td>\n",
              "      <td>Korea</td>\n",
              "      <td>Seoul</td>\n",
              "      <td>Seongbuk-gu</td>\n",
              "      <td>NaN</td>\n",
              "      <td>contact with patient</td>\n",
              "      <td>2.00</td>\n",
              "      <td>1000000002.00</td>\n",
              "      <td>2.00</td>\n",
              "      <td>NaN</td>\n",
              "      <td>2020-01-31</td>\n",
              "      <td>2020-02-24</td>\n",
              "      <td>NaN</td>\n",
              "      <td>released</td>\n",
              "    </tr>\n",
              "  </tbody>\n",
              "</table>\n",
              "</div>"
            ],
            "text/plain": [
              "   patient_id  global_num     sex  ...  released_date deceased_date     state\n",
              "0  1000000001        2.00    male  ...     2020-02-05           NaN  released\n",
              "1  1000000002        5.00    male  ...     2020-03-02           NaN  released\n",
              "2  1000000003        6.00    male  ...     2020-02-19           NaN  released\n",
              "3  1000000004        7.00    male  ...     2020-02-15           NaN  released\n",
              "4  1000000005        9.00  female  ...     2020-02-24           NaN  released\n",
              "\n",
              "[5 rows x 18 columns]"
            ]
          },
          "metadata": {},
          "execution_count": 28
        }
      ]
    },
    {
      "cell_type": "code",
      "metadata": {
        "colab": {
          "base_uri": "https://localhost:8080/"
        },
        "id": "jWEGJY33kovY",
        "outputId": "7135588a-b9fd-44d5-bd8b-07447955f76e"
      },
      "source": [
        "print(patient.shape, len(patient.patient_id.unique()))"
      ],
      "execution_count": 29,
      "outputs": [
        {
          "output_type": "stream",
          "name": "stdout",
          "text": [
            "(3388, 18) 3388\n"
          ]
        }
      ]
    },
    {
      "cell_type": "code",
      "metadata": {
        "id": "05BGIgIbk9Ib"
      },
      "source": [
        "data = patient.copy()"
      ],
      "execution_count": 30,
      "outputs": []
    },
    {
      "cell_type": "markdown",
      "metadata": {
        "id": "kzDtPVYkKaBd"
      },
      "source": [
        "1.1 Infection route cases"
      ]
    },
    {
      "cell_type": "code",
      "metadata": {
        "id": "jBqtpH_Ck_m4",
        "colab": {
          "base_uri": "https://localhost:8080/"
        },
        "outputId": "41fb568d-09ed-4f72-dbcd-ccb35cf1f454"
      },
      "source": [
        "print('the number of unique values in infection_case:', len(data['infection_case'].unique()))\n",
        "data['infection_case'].unique()"
      ],
      "execution_count": 31,
      "outputs": [
        {
          "output_type": "stream",
          "name": "stdout",
          "text": [
            "the number of unique values in infection_case: 24\n"
          ]
        },
        {
          "output_type": "execute_result",
          "data": {
            "text/plain": [
              "array(['overseas inflow', 'contact with patient', 'Seongdong-gu APT',\n",
              "       'etc', \"Eunpyeong St. Mary's Hospital\", 'Shincheonji Church',\n",
              "       'Dongan Church', 'Guro-gu Call Center', 'Onchun Church',\n",
              "       'Cheongdo Daenam Hospital', 'Suyeong-gu Kindergarten', nan,\n",
              "       'Ministry of Oceans and Fisheries', 'gym facility in Cheonan',\n",
              "       'gym facility in Sejong', 'River of Grace Community Church',\n",
              "       'Gyeongsan Seorin Nursing Home',\n",
              "       'Gyeongsan Cham Joeun Community Center',\n",
              "       'Gyeongsan Jeil Silver Town', 'Bonghwa Pureun Nursing Home',\n",
              "       'Pilgrimage to Israel', 'Milal Shelter', 'Geochang Church',\n",
              "       'Changnyeong Coin Karaoke'], dtype=object)"
            ]
          },
          "metadata": {},
          "execution_count": 31
        }
      ]
    },
    {
      "cell_type": "code",
      "metadata": {
        "colab": {
          "base_uri": "https://localhost:8080/",
          "height": 771
        },
        "id": "k6TvIkiDKY6b",
        "outputId": "ce6ec8c1-9798-453d-fc47-0df2b92b2f09"
      },
      "source": [
        "g = data.groupby(['infection_case'])['patient_id'].count()\n",
        "g = g.reset_index()\n",
        "g.rename(columns = {'patient_id' : 'count'}, inplace=True)\n",
        "g = g.sort_values('count', ascending=False)\n",
        "g"
      ],
      "execution_count": 32,
      "outputs": [
        {
          "output_type": "execute_result",
          "data": {
            "text/html": [
              "<div>\n",
              "<style scoped>\n",
              "    .dataframe tbody tr th:only-of-type {\n",
              "        vertical-align: middle;\n",
              "    }\n",
              "\n",
              "    .dataframe tbody tr th {\n",
              "        vertical-align: top;\n",
              "    }\n",
              "\n",
              "    .dataframe thead th {\n",
              "        text-align: right;\n",
              "    }\n",
              "</style>\n",
              "<table border=\"1\" class=\"dataframe\">\n",
              "  <thead>\n",
              "    <tr style=\"text-align: right;\">\n",
              "      <th></th>\n",
              "      <th>infection_case</th>\n",
              "      <th>count</th>\n",
              "    </tr>\n",
              "  </thead>\n",
              "  <tbody>\n",
              "    <tr>\n",
              "      <th>18</th>\n",
              "      <td>contact with patient</td>\n",
              "      <td>968</td>\n",
              "    </tr>\n",
              "    <tr>\n",
              "      <th>22</th>\n",
              "      <td>overseas inflow</td>\n",
              "      <td>604</td>\n",
              "    </tr>\n",
              "    <tr>\n",
              "      <th>19</th>\n",
              "      <td>etc</td>\n",
              "      <td>572</td>\n",
              "    </tr>\n",
              "    <tr>\n",
              "      <th>6</th>\n",
              "      <td>Guro-gu Call Center</td>\n",
              "      <td>112</td>\n",
              "    </tr>\n",
              "    <tr>\n",
              "      <th>16</th>\n",
              "      <td>Shincheonji Church</td>\n",
              "      <td>107</td>\n",
              "    </tr>\n",
              "    <tr>\n",
              "      <th>12</th>\n",
              "      <td>Onchun Church</td>\n",
              "      <td>33</td>\n",
              "    </tr>\n",
              "    <tr>\n",
              "      <th>0</th>\n",
              "      <td>Bonghwa Pureun Nursing Home</td>\n",
              "      <td>31</td>\n",
              "    </tr>\n",
              "    <tr>\n",
              "      <th>20</th>\n",
              "      <td>gym facility in Cheonan</td>\n",
              "      <td>30</td>\n",
              "    </tr>\n",
              "    <tr>\n",
              "      <th>11</th>\n",
              "      <td>Ministry of Oceans and Fisheries</td>\n",
              "      <td>28</td>\n",
              "    </tr>\n",
              "    <tr>\n",
              "      <th>2</th>\n",
              "      <td>Cheongdo Daenam Hospital</td>\n",
              "      <td>21</td>\n",
              "    </tr>\n",
              "    <tr>\n",
              "      <th>3</th>\n",
              "      <td>Dongan Church</td>\n",
              "      <td>17</td>\n",
              "    </tr>\n",
              "    <tr>\n",
              "      <th>4</th>\n",
              "      <td>Eunpyeong St. Mary's Hospital</td>\n",
              "      <td>16</td>\n",
              "    </tr>\n",
              "    <tr>\n",
              "      <th>9</th>\n",
              "      <td>Gyeongsan Seorin Nursing Home</td>\n",
              "      <td>15</td>\n",
              "    </tr>\n",
              "    <tr>\n",
              "      <th>15</th>\n",
              "      <td>Seongdong-gu APT</td>\n",
              "      <td>13</td>\n",
              "    </tr>\n",
              "    <tr>\n",
              "      <th>8</th>\n",
              "      <td>Gyeongsan Jeil Silver Town</td>\n",
              "      <td>12</td>\n",
              "    </tr>\n",
              "    <tr>\n",
              "      <th>10</th>\n",
              "      <td>Milal Shelter</td>\n",
              "      <td>11</td>\n",
              "    </tr>\n",
              "    <tr>\n",
              "      <th>7</th>\n",
              "      <td>Gyeongsan Cham Joeun Community Center</td>\n",
              "      <td>10</td>\n",
              "    </tr>\n",
              "    <tr>\n",
              "      <th>5</th>\n",
              "      <td>Geochang Church</td>\n",
              "      <td>6</td>\n",
              "    </tr>\n",
              "    <tr>\n",
              "      <th>1</th>\n",
              "      <td>Changnyeong Coin Karaoke</td>\n",
              "      <td>4</td>\n",
              "    </tr>\n",
              "    <tr>\n",
              "      <th>21</th>\n",
              "      <td>gym facility in Sejong</td>\n",
              "      <td>4</td>\n",
              "    </tr>\n",
              "    <tr>\n",
              "      <th>17</th>\n",
              "      <td>Suyeong-gu Kindergarten</td>\n",
              "      <td>3</td>\n",
              "    </tr>\n",
              "    <tr>\n",
              "      <th>13</th>\n",
              "      <td>Pilgrimage to Israel</td>\n",
              "      <td>2</td>\n",
              "    </tr>\n",
              "    <tr>\n",
              "      <th>14</th>\n",
              "      <td>River of Grace Community Church</td>\n",
              "      <td>1</td>\n",
              "    </tr>\n",
              "  </tbody>\n",
              "</table>\n",
              "</div>"
            ],
            "text/plain": [
              "                           infection_case  count\n",
              "18                   contact with patient    968\n",
              "22                        overseas inflow    604\n",
              "19                                    etc    572\n",
              "6                     Guro-gu Call Center    112\n",
              "16                     Shincheonji Church    107\n",
              "12                          Onchun Church     33\n",
              "0             Bonghwa Pureun Nursing Home     31\n",
              "20                gym facility in Cheonan     30\n",
              "11       Ministry of Oceans and Fisheries     28\n",
              "2                Cheongdo Daenam Hospital     21\n",
              "3                           Dongan Church     17\n",
              "4           Eunpyeong St. Mary's Hospital     16\n",
              "9           Gyeongsan Seorin Nursing Home     15\n",
              "15                       Seongdong-gu APT     13\n",
              "8              Gyeongsan Jeil Silver Town     12\n",
              "10                          Milal Shelter     11\n",
              "7   Gyeongsan Cham Joeun Community Center     10\n",
              "5                         Geochang Church      6\n",
              "1                Changnyeong Coin Karaoke      4\n",
              "21                 gym facility in Sejong      4\n",
              "17                Suyeong-gu Kindergarten      3\n",
              "13                   Pilgrimage to Israel      2\n",
              "14        River of Grace Community Church      1"
            ]
          },
          "metadata": {},
          "execution_count": 32
        }
      ]
    },
    {
      "cell_type": "code",
      "metadata": {
        "colab": {
          "base_uri": "https://localhost:8080/",
          "height": 367
        },
        "id": "HMKPL7QDKvk3",
        "outputId": "ba471b52-5c9c-461f-b41e-a2632fe9d2b5"
      },
      "source": [
        "plt.figure(figsize=(12, 6))\n",
        "plt.title('Number of patients in infection case values')\n",
        "sns.barplot(y = 'infection_case', x = 'count', data = g)\n",
        "display()"
      ],
      "execution_count": 33,
      "outputs": [
        {
          "output_type": "display_data",
          "data": {
            "image/png": "[encoded data removed]",
            "text/plain": [
              "<Figure size 864x432 with 1 Axes>"
            ]
          },
          "metadata": {
            "needs_background": "light"
          }
        }
      ]
    },
    {
      "cell_type": "code",
      "metadata": {
        "id": "erk-QEGfK-jv"
      },
      "source": [
        "g = data.groupby(['infection_case'])['patient_id'].count()\n",
        "g = pd.DataFrame(g)"
      ],
      "execution_count": 34,
      "outputs": []
    },
    {
      "cell_type": "code",
      "metadata": {
        "colab": {
          "base_uri": "https://localhost:8080/",
          "height": 802
        },
        "id": "dMxVh4YDLMKK",
        "outputId": "088db65f-6bf3-44c1-8ddb-b2b4fb6acbb3"
      },
      "source": [
        "g"
      ],
      "execution_count": 35,
      "outputs": [
        {
          "output_type": "execute_result",
          "data": {
            "text/html": [
              "<div>\n",
              "<style scoped>\n",
              "    .dataframe tbody tr th:only-of-type {\n",
              "        vertical-align: middle;\n",
              "    }\n",
              "\n",
              "    .dataframe tbody tr th {\n",
              "        vertical-align: top;\n",
              "    }\n",
              "\n",
              "    .dataframe thead th {\n",
              "        text-align: right;\n",
              "    }\n",
              "</style>\n",
              "<table border=\"1\" class=\"dataframe\">\n",
              "  <thead>\n",
              "    <tr style=\"text-align: right;\">\n",
              "      <th></th>\n",
              "      <th>patient_id</th>\n",
              "    </tr>\n",
              "    <tr>\n",
              "      <th>infection_case</th>\n",
              "      <th></th>\n",
              "    </tr>\n",
              "  </thead>\n",
              "  <tbody>\n",
              "    <tr>\n",
              "      <th>Bonghwa Pureun Nursing Home</th>\n",
              "      <td>31</td>\n",
              "    </tr>\n",
              "    <tr>\n",
              "      <th>Changnyeong Coin Karaoke</th>\n",
              "      <td>4</td>\n",
              "    </tr>\n",
              "    <tr>\n",
              "      <th>Cheongdo Daenam Hospital</th>\n",
              "      <td>21</td>\n",
              "    </tr>\n",
              "    <tr>\n",
              "      <th>Dongan Church</th>\n",
              "      <td>17</td>\n",
              "    </tr>\n",
              "    <tr>\n",
              "      <th>Eunpyeong St. Mary's Hospital</th>\n",
              "      <td>16</td>\n",
              "    </tr>\n",
              "    <tr>\n",
              "      <th>Geochang Church</th>\n",
              "      <td>6</td>\n",
              "    </tr>\n",
              "    <tr>\n",
              "      <th>Guro-gu Call Center</th>\n",
              "      <td>112</td>\n",
              "    </tr>\n",
              "    <tr>\n",
              "      <th>Gyeongsan Cham Joeun Community Center</th>\n",
              "      <td>10</td>\n",
              "    </tr>\n",
              "    <tr>\n",
              "      <th>Gyeongsan Jeil Silver Town</th>\n",
              "      <td>12</td>\n",
              "    </tr>\n",
              "    <tr>\n",
              "      <th>Gyeongsan Seorin Nursing Home</th>\n",
              "      <td>15</td>\n",
              "    </tr>\n",
              "    <tr>\n",
              "      <th>Milal Shelter</th>\n",
              "      <td>11</td>\n",
              "    </tr>\n",
              "    <tr>\n",
              "      <th>Ministry of Oceans and Fisheries</th>\n",
              "      <td>28</td>\n",
              "    </tr>\n",
              "    <tr>\n",
              "      <th>Onchun Church</th>\n",
              "      <td>33</td>\n",
              "    </tr>\n",
              "    <tr>\n",
              "      <th>Pilgrimage to Israel</th>\n",
              "      <td>2</td>\n",
              "    </tr>\n",
              "    <tr>\n",
              "      <th>River of Grace Community Church</th>\n",
              "      <td>1</td>\n",
              "    </tr>\n",
              "    <tr>\n",
              "      <th>Seongdong-gu APT</th>\n",
              "      <td>13</td>\n",
              "    </tr>\n",
              "    <tr>\n",
              "      <th>Shincheonji Church</th>\n",
              "      <td>107</td>\n",
              "    </tr>\n",
              "    <tr>\n",
              "      <th>Suyeong-gu Kindergarten</th>\n",
              "      <td>3</td>\n",
              "    </tr>\n",
              "    <tr>\n",
              "      <th>contact with patient</th>\n",
              "      <td>968</td>\n",
              "    </tr>\n",
              "    <tr>\n",
              "      <th>etc</th>\n",
              "      <td>572</td>\n",
              "    </tr>\n",
              "    <tr>\n",
              "      <th>gym facility in Cheonan</th>\n",
              "      <td>30</td>\n",
              "    </tr>\n",
              "    <tr>\n",
              "      <th>gym facility in Sejong</th>\n",
              "      <td>4</td>\n",
              "    </tr>\n",
              "    <tr>\n",
              "      <th>overseas inflow</th>\n",
              "      <td>604</td>\n",
              "    </tr>\n",
              "  </tbody>\n",
              "</table>\n",
              "</div>"
            ],
            "text/plain": [
              "                                       patient_id\n",
              "infection_case                                   \n",
              "Bonghwa Pureun Nursing Home                    31\n",
              "Changnyeong Coin Karaoke                        4\n",
              "Cheongdo Daenam Hospital                       21\n",
              "Dongan Church                                  17\n",
              "Eunpyeong St. Mary's Hospital                  16\n",
              "Geochang Church                                 6\n",
              "Guro-gu Call Center                           112\n",
              "Gyeongsan Cham Joeun Community Center          10\n",
              "Gyeongsan Jeil Silver Town                     12\n",
              "Gyeongsan Seorin Nursing Home                  15\n",
              "Milal Shelter                                  11\n",
              "Ministry of Oceans and Fisheries               28\n",
              "Onchun Church                                  33\n",
              "Pilgrimage to Israel                            2\n",
              "River of Grace Community Church                 1\n",
              "Seongdong-gu APT                               13\n",
              "Shincheonji Church                            107\n",
              "Suyeong-gu Kindergarten                         3\n",
              "contact with patient                          968\n",
              "etc                                           572\n",
              "gym facility in Cheonan                        30\n",
              "gym facility in Sejong                          4\n",
              "overseas inflow                               604"
            ]
          },
          "metadata": {},
          "execution_count": 35
        }
      ]
    },
    {
      "cell_type": "code",
      "metadata": {
        "colab": {
          "base_uri": "https://localhost:8080/",
          "height": 238
        },
        "id": "Q_xpPxqsLM1Y",
        "outputId": "49a1b67d-2014-4f3a-b2ee-78b1503d8dde"
      },
      "source": [
        "infection_case_less_than_5 = g[g['patient_id']<5].index.tolist()\n",
        "g[g.index.isin(infection_case_less_than_5)]"
      ],
      "execution_count": 36,
      "outputs": [
        {
          "output_type": "execute_result",
          "data": {
            "text/html": [
              "<div>\n",
              "<style scoped>\n",
              "    .dataframe tbody tr th:only-of-type {\n",
              "        vertical-align: middle;\n",
              "    }\n",
              "\n",
              "    .dataframe tbody tr th {\n",
              "        vertical-align: top;\n",
              "    }\n",
              "\n",
              "    .dataframe thead th {\n",
              "        text-align: right;\n",
              "    }\n",
              "</style>\n",
              "<table border=\"1\" class=\"dataframe\">\n",
              "  <thead>\n",
              "    <tr style=\"text-align: right;\">\n",
              "      <th></th>\n",
              "      <th>patient_id</th>\n",
              "    </tr>\n",
              "    <tr>\n",
              "      <th>infection_case</th>\n",
              "      <th></th>\n",
              "    </tr>\n",
              "  </thead>\n",
              "  <tbody>\n",
              "    <tr>\n",
              "      <th>Changnyeong Coin Karaoke</th>\n",
              "      <td>4</td>\n",
              "    </tr>\n",
              "    <tr>\n",
              "      <th>Pilgrimage to Israel</th>\n",
              "      <td>2</td>\n",
              "    </tr>\n",
              "    <tr>\n",
              "      <th>River of Grace Community Church</th>\n",
              "      <td>1</td>\n",
              "    </tr>\n",
              "    <tr>\n",
              "      <th>Suyeong-gu Kindergarten</th>\n",
              "      <td>3</td>\n",
              "    </tr>\n",
              "    <tr>\n",
              "      <th>gym facility in Sejong</th>\n",
              "      <td>4</td>\n",
              "    </tr>\n",
              "  </tbody>\n",
              "</table>\n",
              "</div>"
            ],
            "text/plain": [
              "                                 patient_id\n",
              "infection_case                             \n",
              "Changnyeong Coin Karaoke                  4\n",
              "Pilgrimage to Israel                      2\n",
              "River of Grace Community Church           1\n",
              "Suyeong-gu Kindergarten                   3\n",
              "gym facility in Sejong                    4"
            ]
          },
          "metadata": {},
          "execution_count": 36
        }
      ]
    },
    {
      "cell_type": "code",
      "metadata": {
        "colab": {
          "base_uri": "https://localhost:8080/"
        },
        "id": "0odYa4-0LXaG",
        "outputId": "092f9857-1353-4595-bf8b-074002760bc2"
      },
      "source": [
        "print('original data shape:', data.shape) \n",
        "data = data[~ (data['infection_case'].isin(infection_case_less_than_5))]\n",
        "print('data shape after slicing: ', data.shape)"
      ],
      "execution_count": 37,
      "outputs": [
        {
          "output_type": "stream",
          "name": "stdout",
          "text": [
            "original data shape: (3388, 18)\n",
            "data shape after slicing:  (3374, 18)\n"
          ]
        }
      ]
    },
    {
      "cell_type": "code",
      "metadata": {
        "colab": {
          "base_uri": "https://localhost:8080/"
        },
        "id": "U9zyqyicLrRx",
        "outputId": "7c50663b-823f-4a30-cd74-1d9613c8d44c"
      },
      "source": [
        "#결측치 확인\n",
        "data[data['infection_case'].isna()].shape "
      ],
      "execution_count": 38,
      "outputs": [
        {
          "output_type": "execute_result",
          "data": {
            "text/plain": [
              "(768, 18)"
            ]
          },
          "metadata": {},
          "execution_count": 38
        }
      ]
    },
    {
      "cell_type": "code",
      "metadata": {
        "id": "JcOQWRI4Lx1a"
      },
      "source": [
        "#카테고리 재지정 함수 \n",
        "\n",
        "def categorisation(x):\n",
        "  if x == 'overseas inflow':\n",
        "    y = 'overseas'\n",
        "  elif x == 'contact with patient':\n",
        "    y = 'individual'\n",
        "  elif (x == 'etc') | (pd.isna(x)):\n",
        "    y = 'unknown'\n",
        "  else:\n",
        "    y = 'group'\n",
        "  return y "
      ],
      "execution_count": 39,
      "outputs": []
    },
    {
      "cell_type": "code",
      "metadata": {
        "colab": {
          "base_uri": "https://localhost:8080/",
          "height": 314
        },
        "id": "7tmscm7gMPLw",
        "outputId": "549056df-544c-440c-fb1d-7b85c6b51bf1"
      },
      "source": [
        "#함수 적용 후 결과 확인\n",
        "data['infection'] = data['infection_case'].apply(lambda x: categorisation(x))\n",
        "print(data.shape)\n",
        "data.head()"
      ],
      "execution_count": 40,
      "outputs": [
        {
          "output_type": "stream",
          "name": "stdout",
          "text": [
            "(3374, 19)\n"
          ]
        },
        {
          "output_type": "execute_result",
          "data": {
            "text/html": [
              "<div>\n",
              "<style scoped>\n",
              "    .dataframe tbody tr th:only-of-type {\n",
              "        vertical-align: middle;\n",
              "    }\n",
              "\n",
              "    .dataframe tbody tr th {\n",
              "        vertical-align: top;\n",
              "    }\n",
              "\n",
              "    .dataframe thead th {\n",
              "        text-align: right;\n",
              "    }\n",
              "</style>\n",
              "<table border=\"1\" class=\"dataframe\">\n",
              "  <thead>\n",
              "    <tr style=\"text-align: right;\">\n",
              "      <th></th>\n",
              "      <th>patient_id</th>\n",
              "      <th>global_num</th>\n",
              "      <th>sex</th>\n",
              "      <th>birth_year</th>\n",
              "      <th>age</th>\n",
              "      <th>country</th>\n",
              "      <th>province</th>\n",
              "      <th>city</th>\n",
              "      <th>disease</th>\n",
              "      <th>infection_case</th>\n",
              "      <th>infection_order</th>\n",
              "      <th>infected_by</th>\n",
              "      <th>contact_number</th>\n",
              "      <th>symptom_onset_date</th>\n",
              "      <th>confirmed_date</th>\n",
              "      <th>released_date</th>\n",
              "      <th>deceased_date</th>\n",
              "      <th>state</th>\n",
              "      <th>infection</th>\n",
              "    </tr>\n",
              "  </thead>\n",
              "  <tbody>\n",
              "    <tr>\n",
              "      <th>0</th>\n",
              "      <td>1000000001</td>\n",
              "      <td>2.00</td>\n",
              "      <td>male</td>\n",
              "      <td>1964.00</td>\n",
              "      <td>50s</td>\n",
              "      <td>Korea</td>\n",
              "      <td>Seoul</td>\n",
              "      <td>Gangseo-gu</td>\n",
              "      <td>NaN</td>\n",
              "      <td>overseas inflow</td>\n",
              "      <td>1.00</td>\n",
              "      <td>nan</td>\n",
              "      <td>75.00</td>\n",
              "      <td>2020-01-22</td>\n",
              "      <td>2020-01-23</td>\n",
              "      <td>2020-02-05</td>\n",
              "      <td>NaN</td>\n",
              "      <td>released</td>\n",
              "      <td>overseas</td>\n",
              "    </tr>\n",
              "    <tr>\n",
              "      <th>1</th>\n",
              "      <td>1000000002</td>\n",
              "      <td>5.00</td>\n",
              "      <td>male</td>\n",
              "      <td>1987.00</td>\n",
              "      <td>30s</td>\n",
              "      <td>Korea</td>\n",
              "      <td>Seoul</td>\n",
              "      <td>Jungnang-gu</td>\n",
              "      <td>NaN</td>\n",
              "      <td>overseas inflow</td>\n",
              "      <td>1.00</td>\n",
              "      <td>nan</td>\n",
              "      <td>31.00</td>\n",
              "      <td>NaN</td>\n",
              "      <td>2020-01-30</td>\n",
              "      <td>2020-03-02</td>\n",
              "      <td>NaN</td>\n",
              "      <td>released</td>\n",
              "      <td>overseas</td>\n",
              "    </tr>\n",
              "    <tr>\n",
              "      <th>2</th>\n",
              "      <td>1000000003</td>\n",
              "      <td>6.00</td>\n",
              "      <td>male</td>\n",
              "      <td>1964.00</td>\n",
              "      <td>50s</td>\n",
              "      <td>Korea</td>\n",
              "      <td>Seoul</td>\n",
              "      <td>Jongno-gu</td>\n",
              "      <td>NaN</td>\n",
              "      <td>contact with patient</td>\n",
              "      <td>2.00</td>\n",
              "      <td>2002000001.00</td>\n",
              "      <td>17.00</td>\n",
              "      <td>NaN</td>\n",
              "      <td>2020-01-30</td>\n",
              "      <td>2020-02-19</td>\n",
              "      <td>NaN</td>\n",
              "      <td>released</td>\n",
              "      <td>individual</td>\n",
              "    </tr>\n",
              "    <tr>\n",
              "      <th>3</th>\n",
              "      <td>1000000004</td>\n",
              "      <td>7.00</td>\n",
              "      <td>male</td>\n",
              "      <td>1991.00</td>\n",
              "      <td>20s</td>\n",
              "      <td>Korea</td>\n",
              "      <td>Seoul</td>\n",
              "      <td>Mapo-gu</td>\n",
              "      <td>NaN</td>\n",
              "      <td>overseas inflow</td>\n",
              "      <td>1.00</td>\n",
              "      <td>nan</td>\n",
              "      <td>9.00</td>\n",
              "      <td>2020-01-26</td>\n",
              "      <td>2020-01-30</td>\n",
              "      <td>2020-02-15</td>\n",
              "      <td>NaN</td>\n",
              "      <td>released</td>\n",
              "      <td>overseas</td>\n",
              "    </tr>\n",
              "    <tr>\n",
              "      <th>4</th>\n",
              "      <td>1000000005</td>\n",
              "      <td>9.00</td>\n",
              "      <td>female</td>\n",
              "      <td>1992.00</td>\n",
              "      <td>20s</td>\n",
              "      <td>Korea</td>\n",
              "      <td>Seoul</td>\n",
              "      <td>Seongbuk-gu</td>\n",
              "      <td>NaN</td>\n",
              "      <td>contact with patient</td>\n",
              "      <td>2.00</td>\n",
              "      <td>1000000002.00</td>\n",
              "      <td>2.00</td>\n",
              "      <td>NaN</td>\n",
              "      <td>2020-01-31</td>\n",
              "      <td>2020-02-24</td>\n",
              "      <td>NaN</td>\n",
              "      <td>released</td>\n",
              "      <td>individual</td>\n",
              "    </tr>\n",
              "  </tbody>\n",
              "</table>\n",
              "</div>"
            ],
            "text/plain": [
              "   patient_id  global_num     sex  ...  deceased_date     state   infection\n",
              "0  1000000001        2.00    male  ...            NaN  released    overseas\n",
              "1  1000000002        5.00    male  ...            NaN  released    overseas\n",
              "2  1000000003        6.00    male  ...            NaN  released  individual\n",
              "3  1000000004        7.00    male  ...            NaN  released    overseas\n",
              "4  1000000005        9.00  female  ...            NaN  released  individual\n",
              "\n",
              "[5 rows x 19 columns]"
            ]
          },
          "metadata": {},
          "execution_count": 40
        }
      ]
    },
    {
      "cell_type": "code",
      "metadata": {
        "id": "kHvNZfriMatE"
      },
      "source": [
        "g = data.groupby(['infection'])['patient_id'].count()\n",
        "g = g.reset_index()\n",
        "g.rename(columns = {'patient_id': 'count'}, inplace = True)"
      ],
      "execution_count": 41,
      "outputs": []
    },
    {
      "cell_type": "code",
      "metadata": {
        "id": "eLUkCPkpMrKZ"
      },
      "source": [
        "g = g.sort_values('count', ascending = False)"
      ],
      "execution_count": 42,
      "outputs": []
    },
    {
      "cell_type": "code",
      "metadata": {
        "colab": {
          "base_uri": "https://localhost:8080/",
          "height": 404
        },
        "id": "UB1uusQOM23W",
        "outputId": "a7c73c27-c0a6-48f3-cc33-34e31285e251"
      },
      "source": [
        "plt.figure(figsize = (12, 6))\n",
        "sns.barplot(y = 'infection', x = 'count', data = g)\n",
        "plt.title('Number of patients in infection values')\n",
        "display()"
      ],
      "execution_count": 43,
      "outputs": [
        {
          "output_type": "display_data",
          "data": {
            "image/png": "[encoded data removed]",
            "text/plain": [
              "<Figure size 864x432 with 1 Axes>"
            ]
          },
          "metadata": {
            "needs_background": "light"
          }
        }
      ]
    },
    {
      "cell_type": "markdown",
      "metadata": {
        "id": "o45N4Fom8Qro"
      },
      "source": [
        "1.2 Mobility level"
      ]
    },
    {
      "cell_type": "code",
      "metadata": {
        "id": "6oSCo0D2NAZl",
        "colab": {
          "base_uri": "https://localhost:8080/",
          "height": 206
        },
        "outputId": "3fdbdcb1-1100-4e09-9478-f922d16c0893"
      },
      "source": [
        "route = pd.read_csv(\"/content/drive/MyDrive/Colab Notebooks/study/data/coronavirusdataset_20200430/PatientRoute.csv\")\n",
        "route.head()"
      ],
      "execution_count": 45,
      "outputs": [
        {
          "output_type": "execute_result",
          "data": {
            "text/html": [
              "<div>\n",
              "<style scoped>\n",
              "    .dataframe tbody tr th:only-of-type {\n",
              "        vertical-align: middle;\n",
              "    }\n",
              "\n",
              "    .dataframe tbody tr th {\n",
              "        vertical-align: top;\n",
              "    }\n",
              "\n",
              "    .dataframe thead th {\n",
              "        text-align: right;\n",
              "    }\n",
              "</style>\n",
              "<table border=\"1\" class=\"dataframe\">\n",
              "  <thead>\n",
              "    <tr style=\"text-align: right;\">\n",
              "      <th></th>\n",
              "      <th>patient_id</th>\n",
              "      <th>global_num</th>\n",
              "      <th>date</th>\n",
              "      <th>province</th>\n",
              "      <th>city</th>\n",
              "      <th>type</th>\n",
              "      <th>latitude</th>\n",
              "      <th>longitude</th>\n",
              "    </tr>\n",
              "  </thead>\n",
              "  <tbody>\n",
              "    <tr>\n",
              "      <th>0</th>\n",
              "      <td>1000000001</td>\n",
              "      <td>2.00</td>\n",
              "      <td>2020-01-22</td>\n",
              "      <td>Gyeonggi-do</td>\n",
              "      <td>Gimpo-si</td>\n",
              "      <td>airport</td>\n",
              "      <td>37.62</td>\n",
              "      <td>126.72</td>\n",
              "    </tr>\n",
              "    <tr>\n",
              "      <th>1</th>\n",
              "      <td>1000000001</td>\n",
              "      <td>2.00</td>\n",
              "      <td>2020-01-24</td>\n",
              "      <td>Seoul</td>\n",
              "      <td>Jung-gu</td>\n",
              "      <td>hospital</td>\n",
              "      <td>37.57</td>\n",
              "      <td>127.01</td>\n",
              "    </tr>\n",
              "    <tr>\n",
              "      <th>2</th>\n",
              "      <td>1000000002</td>\n",
              "      <td>5.00</td>\n",
              "      <td>2020-01-25</td>\n",
              "      <td>Seoul</td>\n",
              "      <td>Seongbuk-gu</td>\n",
              "      <td>etc</td>\n",
              "      <td>37.59</td>\n",
              "      <td>127.02</td>\n",
              "    </tr>\n",
              "    <tr>\n",
              "      <th>3</th>\n",
              "      <td>1000000002</td>\n",
              "      <td>5.00</td>\n",
              "      <td>2020-01-26</td>\n",
              "      <td>Seoul</td>\n",
              "      <td>Seongbuk-gu</td>\n",
              "      <td>store</td>\n",
              "      <td>37.59</td>\n",
              "      <td>127.02</td>\n",
              "    </tr>\n",
              "    <tr>\n",
              "      <th>4</th>\n",
              "      <td>1000000002</td>\n",
              "      <td>5.00</td>\n",
              "      <td>2020-01-26</td>\n",
              "      <td>Seoul</td>\n",
              "      <td>Seongdong-gu</td>\n",
              "      <td>public_transportation</td>\n",
              "      <td>37.56</td>\n",
              "      <td>127.03</td>\n",
              "    </tr>\n",
              "  </tbody>\n",
              "</table>\n",
              "</div>"
            ],
            "text/plain": [
              "   patient_id  global_num  ... latitude longitude\n",
              "0  1000000001        2.00  ...    37.62    126.72\n",
              "1  1000000001        2.00  ...    37.57    127.01\n",
              "2  1000000002        5.00  ...    37.59    127.02\n",
              "3  1000000002        5.00  ...    37.59    127.02\n",
              "4  1000000002        5.00  ...    37.56    127.03\n",
              "\n",
              "[5 rows x 8 columns]"
            ]
          },
          "metadata": {},
          "execution_count": 45
        }
      ]
    },
    {
      "cell_type": "code",
      "metadata": {
        "colab": {
          "base_uri": "https://localhost:8080/"
        },
        "id": "mlTvCg6l8ZxG",
        "outputId": "17b805a6-0b79-411e-8e95-4becedf88467"
      },
      "source": [
        "print('The number of unique values in type:', len(route['type'].unique()))\n",
        "route['type'].unique()"
      ],
      "execution_count": 46,
      "outputs": [
        {
          "output_type": "stream",
          "name": "stdout",
          "text": [
            "The number of unique values in type: 24\n"
          ]
        },
        {
          "output_type": "execute_result",
          "data": {
            "text/plain": [
              "array(['airport', 'hospital', 'etc', 'store', 'public_transportation',\n",
              "       'restaurant', 'church', 'beauty_salon', 'pharmacy', 'pc_cafe',\n",
              "       'bank', 'cafe', 'bakery', 'bar', 'gym', 'school',\n",
              "       'real_estate_agency', 'karaoke', 'post_office', 'gas_station',\n",
              "       'lodging', 'academy', 'university', 'administrative_area_level_1'],\n",
              "      dtype=object)"
            ]
          },
          "metadata": {},
          "execution_count": 46
        }
      ]
    },
    {
      "cell_type": "code",
      "metadata": {
        "colab": {
          "base_uri": "https://localhost:8080/"
        },
        "id": "yZPAReW88qgd",
        "outputId": "d41c36d6-386a-4d15-b987-c8bf8f1cfec9"
      },
      "source": [
        "route[route['type'].isna()].shape"
      ],
      "execution_count": 47,
      "outputs": [
        {
          "output_type": "execute_result",
          "data": {
            "text/plain": [
              "(0, 8)"
            ]
          },
          "metadata": {},
          "execution_count": 47
        }
      ]
    },
    {
      "cell_type": "code",
      "metadata": {
        "id": "VnafFIHC8zG_"
      },
      "source": [
        "leisure = ['library', 'theater', 'cafe', 'bakery', 'beauty_salon', 'pc_cafe', 'billiards','restaurant', 'bar', 'karaoke']\n",
        "travel = ['airport', 'lodging']\n",
        "essential_edu = ['primary_school', 'school', 'university']\n",
        "non_essential_edu = ['academy']\n",
        "exercise = ['gym', 'mountain', 'park']\n",
        "essential_admin = ['administrative_area_level_1', 'governmnet_office', 'post_office']\n",
        "non_essential_admin = ['police_office', 'bank', 'real_estate_agency']\n",
        "necessity = ['store', 'public_transportation', 'gas_station']\n",
        "medical = ['hospital', 'pharmacy']\n",
        "church = ['church']\n",
        "etc = ['etc']"
      ],
      "execution_count": 49,
      "outputs": []
    },
    {
      "cell_type": "code",
      "metadata": {
        "id": "AkrkaafW84tv"
      },
      "source": [
        "essential = essential_edu + essential_admin + necessity + medical"
      ],
      "execution_count": 50,
      "outputs": []
    },
    {
      "cell_type": "code",
      "metadata": {
        "id": "8pQQKQPQ9E02"
      },
      "source": [
        "def type_group_essen(x):\n",
        "  group = None\n",
        "  if x in essential:\n",
        "    group = 'essential'\n",
        "  else:\n",
        "    group = 'non-essential'\n",
        "  return group"
      ],
      "execution_count": 51,
      "outputs": []
    },
    {
      "cell_type": "code",
      "metadata": {
        "colab": {
          "base_uri": "https://localhost:8080/",
          "height": 206
        },
        "id": "Cda-SxBE9QcV",
        "outputId": "9649ddd0-289a-4fa8-ac0a-610cb900c4ca"
      },
      "source": [
        "route['route_group_essential'] = route['type'].apply(lambda x: type_group_essen(x))\n",
        "route = route[['patient_id', 'type', 'route_group_essential']]\n",
        "route.head()"
      ],
      "execution_count": 53,
      "outputs": [
        {
          "output_type": "execute_result",
          "data": {
            "text/html": [
              "<div>\n",
              "<style scoped>\n",
              "    .dataframe tbody tr th:only-of-type {\n",
              "        vertical-align: middle;\n",
              "    }\n",
              "\n",
              "    .dataframe tbody tr th {\n",
              "        vertical-align: top;\n",
              "    }\n",
              "\n",
              "    .dataframe thead th {\n",
              "        text-align: right;\n",
              "    }\n",
              "</style>\n",
              "<table border=\"1\" class=\"dataframe\">\n",
              "  <thead>\n",
              "    <tr style=\"text-align: right;\">\n",
              "      <th></th>\n",
              "      <th>patient_id</th>\n",
              "      <th>type</th>\n",
              "      <th>route_group_essential</th>\n",
              "    </tr>\n",
              "  </thead>\n",
              "  <tbody>\n",
              "    <tr>\n",
              "      <th>0</th>\n",
              "      <td>1000000001</td>\n",
              "      <td>airport</td>\n",
              "      <td>non-essential</td>\n",
              "    </tr>\n",
              "    <tr>\n",
              "      <th>1</th>\n",
              "      <td>1000000001</td>\n",
              "      <td>hospital</td>\n",
              "      <td>essential</td>\n",
              "    </tr>\n",
              "    <tr>\n",
              "      <th>2</th>\n",
              "      <td>1000000002</td>\n",
              "      <td>etc</td>\n",
              "      <td>non-essential</td>\n",
              "    </tr>\n",
              "    <tr>\n",
              "      <th>3</th>\n",
              "      <td>1000000002</td>\n",
              "      <td>store</td>\n",
              "      <td>essential</td>\n",
              "    </tr>\n",
              "    <tr>\n",
              "      <th>4</th>\n",
              "      <td>1000000002</td>\n",
              "      <td>public_transportation</td>\n",
              "      <td>essential</td>\n",
              "    </tr>\n",
              "  </tbody>\n",
              "</table>\n",
              "</div>"
            ],
            "text/plain": [
              "   patient_id                   type route_group_essential\n",
              "0  1000000001                airport         non-essential\n",
              "1  1000000001               hospital             essential\n",
              "2  1000000002                    etc         non-essential\n",
              "3  1000000002                  store             essential\n",
              "4  1000000002  public_transportation             essential"
            ]
          },
          "metadata": {},
          "execution_count": 53
        }
      ]
    },
    {
      "cell_type": "code",
      "metadata": {
        "colab": {
          "base_uri": "https://localhost:8080/",
          "height": 455
        },
        "id": "EuDPvSg_9dsb",
        "outputId": "659be68d-f433-4976-beb0-62e8a565a724"
      },
      "source": [
        "route['route_value'] = 1\n",
        "g = pd.DataFrame(route.groupby(['patient_id', 'route_group_essential'])['route_value'].count().unstack())\n",
        "g"
      ],
      "execution_count": 54,
      "outputs": [
        {
          "output_type": "execute_result",
          "data": {
            "text/html": [
              "<div>\n",
              "<style scoped>\n",
              "    .dataframe tbody tr th:only-of-type {\n",
              "        vertical-align: middle;\n",
              "    }\n",
              "\n",
              "    .dataframe tbody tr th {\n",
              "        vertical-align: top;\n",
              "    }\n",
              "\n",
              "    .dataframe thead th {\n",
              "        text-align: right;\n",
              "    }\n",
              "</style>\n",
              "<table border=\"1\" class=\"dataframe\">\n",
              "  <thead>\n",
              "    <tr style=\"text-align: right;\">\n",
              "      <th>route_group_essential</th>\n",
              "      <th>essential</th>\n",
              "      <th>non-essential</th>\n",
              "    </tr>\n",
              "    <tr>\n",
              "      <th>patient_id</th>\n",
              "      <th></th>\n",
              "      <th></th>\n",
              "    </tr>\n",
              "  </thead>\n",
              "  <tbody>\n",
              "    <tr>\n",
              "      <th>1000000001</th>\n",
              "      <td>1.00</td>\n",
              "      <td>1.00</td>\n",
              "    </tr>\n",
              "    <tr>\n",
              "      <th>1000000002</th>\n",
              "      <td>9.00</td>\n",
              "      <td>4.00</td>\n",
              "    </tr>\n",
              "    <tr>\n",
              "      <th>1000000003</th>\n",
              "      <td>nan</td>\n",
              "      <td>2.00</td>\n",
              "    </tr>\n",
              "    <tr>\n",
              "      <th>1000000004</th>\n",
              "      <td>1.00</td>\n",
              "      <td>nan</td>\n",
              "    </tr>\n",
              "    <tr>\n",
              "      <th>1000000005</th>\n",
              "      <td>1.00</td>\n",
              "      <td>nan</td>\n",
              "    </tr>\n",
              "    <tr>\n",
              "      <th>...</th>\n",
              "      <td>...</td>\n",
              "      <td>...</td>\n",
              "    </tr>\n",
              "    <tr>\n",
              "      <th>6100000086</th>\n",
              "      <td>2.00</td>\n",
              "      <td>2.00</td>\n",
              "    </tr>\n",
              "    <tr>\n",
              "      <th>6100000087</th>\n",
              "      <td>6.00</td>\n",
              "      <td>2.00</td>\n",
              "    </tr>\n",
              "    <tr>\n",
              "      <th>6100000088</th>\n",
              "      <td>5.00</td>\n",
              "      <td>19.00</td>\n",
              "    </tr>\n",
              "    <tr>\n",
              "      <th>6100000089</th>\n",
              "      <td>1.00</td>\n",
              "      <td>1.00</td>\n",
              "    </tr>\n",
              "    <tr>\n",
              "      <th>6100000090</th>\n",
              "      <td>3.00</td>\n",
              "      <td>4.00</td>\n",
              "    </tr>\n",
              "  </tbody>\n",
              "</table>\n",
              "<p>1211 rows × 2 columns</p>\n",
              "</div>"
            ],
            "text/plain": [
              "route_group_essential  essential  non-essential\n",
              "patient_id                                     \n",
              "1000000001                  1.00           1.00\n",
              "1000000002                  9.00           4.00\n",
              "1000000003                   nan           2.00\n",
              "1000000004                  1.00            nan\n",
              "1000000005                  1.00            nan\n",
              "...                          ...            ...\n",
              "6100000086                  2.00           2.00\n",
              "6100000087                  6.00           2.00\n",
              "6100000088                  5.00          19.00\n",
              "6100000089                  1.00           1.00\n",
              "6100000090                  3.00           4.00\n",
              "\n",
              "[1211 rows x 2 columns]"
            ]
          },
          "metadata": {},
          "execution_count": 54
        }
      ]
    },
    {
      "cell_type": "code",
      "metadata": {
        "colab": {
          "base_uri": "https://localhost:8080/",
          "height": 206
        },
        "id": "h2pln0zP9uam",
        "outputId": "d0a501ac-c57d-430e-c5b0-194575bd510a"
      },
      "source": [
        "g.fillna(0,inplace=True)\n",
        "g.reset_index(inplace=True)\n",
        "g = g[['patient_id', 'essential', 'non-essential']]\n",
        "g.head()"
      ],
      "execution_count": 56,
      "outputs": [
        {
          "output_type": "execute_result",
          "data": {
            "text/html": [
              "<div>\n",
              "<style scoped>\n",
              "    .dataframe tbody tr th:only-of-type {\n",
              "        vertical-align: middle;\n",
              "    }\n",
              "\n",
              "    .dataframe tbody tr th {\n",
              "        vertical-align: top;\n",
              "    }\n",
              "\n",
              "    .dataframe thead th {\n",
              "        text-align: right;\n",
              "    }\n",
              "</style>\n",
              "<table border=\"1\" class=\"dataframe\">\n",
              "  <thead>\n",
              "    <tr style=\"text-align: right;\">\n",
              "      <th>route_group_essential</th>\n",
              "      <th>patient_id</th>\n",
              "      <th>essential</th>\n",
              "      <th>non-essential</th>\n",
              "    </tr>\n",
              "  </thead>\n",
              "  <tbody>\n",
              "    <tr>\n",
              "      <th>0</th>\n",
              "      <td>1000000001</td>\n",
              "      <td>1.00</td>\n",
              "      <td>1.00</td>\n",
              "    </tr>\n",
              "    <tr>\n",
              "      <th>1</th>\n",
              "      <td>1000000002</td>\n",
              "      <td>9.00</td>\n",
              "      <td>4.00</td>\n",
              "    </tr>\n",
              "    <tr>\n",
              "      <th>2</th>\n",
              "      <td>1000000003</td>\n",
              "      <td>0.00</td>\n",
              "      <td>2.00</td>\n",
              "    </tr>\n",
              "    <tr>\n",
              "      <th>3</th>\n",
              "      <td>1000000004</td>\n",
              "      <td>1.00</td>\n",
              "      <td>0.00</td>\n",
              "    </tr>\n",
              "    <tr>\n",
              "      <th>4</th>\n",
              "      <td>1000000005</td>\n",
              "      <td>1.00</td>\n",
              "      <td>0.00</td>\n",
              "    </tr>\n",
              "  </tbody>\n",
              "</table>\n",
              "</div>"
            ],
            "text/plain": [
              "route_group_essential  patient_id  essential  non-essential\n",
              "0                      1000000001       1.00           1.00\n",
              "1                      1000000002       9.00           4.00\n",
              "2                      1000000003       0.00           2.00\n",
              "3                      1000000004       1.00           0.00\n",
              "4                      1000000005       1.00           0.00"
            ]
          },
          "metadata": {},
          "execution_count": 56
        }
      ]
    },
    {
      "cell_type": "code",
      "metadata": {
        "colab": {
          "base_uri": "https://localhost:8080/",
          "height": 313
        },
        "id": "_UcbiOIq95i_",
        "outputId": "50517885-3b0c-4706-a2bc-2170ca6429fe"
      },
      "source": [
        "data = data.merge(g, left_on = 'patient_id', right_on = 'patient_id', how = 'left')\n",
        "data.head()"
      ],
      "execution_count": 57,
      "outputs": [
        {
          "output_type": "execute_result",
          "data": {
            "text/html": [
              "<div>\n",
              "<style scoped>\n",
              "    .dataframe tbody tr th:only-of-type {\n",
              "        vertical-align: middle;\n",
              "    }\n",
              "\n",
              "    .dataframe tbody tr th {\n",
              "        vertical-align: top;\n",
              "    }\n",
              "\n",
              "    .dataframe thead th {\n",
              "        text-align: right;\n",
              "    }\n",
              "</style>\n",
              "<table border=\"1\" class=\"dataframe\">\n",
              "  <thead>\n",
              "    <tr style=\"text-align: right;\">\n",
              "      <th></th>\n",
              "      <th>patient_id</th>\n",
              "      <th>global_num</th>\n",
              "      <th>sex</th>\n",
              "      <th>birth_year</th>\n",
              "      <th>age</th>\n",
              "      <th>country</th>\n",
              "      <th>province</th>\n",
              "      <th>city</th>\n",
              "      <th>disease</th>\n",
              "      <th>infection_case</th>\n",
              "      <th>infection_order</th>\n",
              "      <th>infected_by</th>\n",
              "      <th>contact_number</th>\n",
              "      <th>symptom_onset_date</th>\n",
              "      <th>confirmed_date</th>\n",
              "      <th>released_date</th>\n",
              "      <th>deceased_date</th>\n",
              "      <th>state</th>\n",
              "      <th>infection</th>\n",
              "      <th>essential</th>\n",
              "      <th>non-essential</th>\n",
              "    </tr>\n",
              "  </thead>\n",
              "  <tbody>\n",
              "    <tr>\n",
              "      <th>0</th>\n",
              "      <td>1000000001</td>\n",
              "      <td>2.00</td>\n",
              "      <td>male</td>\n",
              "      <td>1964.00</td>\n",
              "      <td>50s</td>\n",
              "      <td>Korea</td>\n",
              "      <td>Seoul</td>\n",
              "      <td>Gangseo-gu</td>\n",
              "      <td>NaN</td>\n",
              "      <td>overseas inflow</td>\n",
              "      <td>1.00</td>\n",
              "      <td>nan</td>\n",
              "      <td>75.00</td>\n",
              "      <td>2020-01-22</td>\n",
              "      <td>2020-01-23</td>\n",
              "      <td>2020-02-05</td>\n",
              "      <td>NaN</td>\n",
              "      <td>released</td>\n",
              "      <td>overseas</td>\n",
              "      <td>1.00</td>\n",
              "      <td>1.00</td>\n",
              "    </tr>\n",
              "    <tr>\n",
              "      <th>1</th>\n",
              "      <td>1000000002</td>\n",
              "      <td>5.00</td>\n",
              "      <td>male</td>\n",
              "      <td>1987.00</td>\n",
              "      <td>30s</td>\n",
              "      <td>Korea</td>\n",
              "      <td>Seoul</td>\n",
              "      <td>Jungnang-gu</td>\n",
              "      <td>NaN</td>\n",
              "      <td>overseas inflow</td>\n",
              "      <td>1.00</td>\n",
              "      <td>nan</td>\n",
              "      <td>31.00</td>\n",
              "      <td>NaN</td>\n",
              "      <td>2020-01-30</td>\n",
              "      <td>2020-03-02</td>\n",
              "      <td>NaN</td>\n",
              "      <td>released</td>\n",
              "      <td>overseas</td>\n",
              "      <td>9.00</td>\n",
              "      <td>4.00</td>\n",
              "    </tr>\n",
              "    <tr>\n",
              "      <th>2</th>\n",
              "      <td>1000000003</td>\n",
              "      <td>6.00</td>\n",
              "      <td>male</td>\n",
              "      <td>1964.00</td>\n",
              "      <td>50s</td>\n",
              "      <td>Korea</td>\n",
              "      <td>Seoul</td>\n",
              "      <td>Jongno-gu</td>\n",
              "      <td>NaN</td>\n",
              "      <td>contact with patient</td>\n",
              "      <td>2.00</td>\n",
              "      <td>2002000001.00</td>\n",
              "      <td>17.00</td>\n",
              "      <td>NaN</td>\n",
              "      <td>2020-01-30</td>\n",
              "      <td>2020-02-19</td>\n",
              "      <td>NaN</td>\n",
              "      <td>released</td>\n",
              "      <td>individual</td>\n",
              "      <td>0.00</td>\n",
              "      <td>2.00</td>\n",
              "    </tr>\n",
              "    <tr>\n",
              "      <th>3</th>\n",
              "      <td>1000000004</td>\n",
              "      <td>7.00</td>\n",
              "      <td>male</td>\n",
              "      <td>1991.00</td>\n",
              "      <td>20s</td>\n",
              "      <td>Korea</td>\n",
              "      <td>Seoul</td>\n",
              "      <td>Mapo-gu</td>\n",
              "      <td>NaN</td>\n",
              "      <td>overseas inflow</td>\n",
              "      <td>1.00</td>\n",
              "      <td>nan</td>\n",
              "      <td>9.00</td>\n",
              "      <td>2020-01-26</td>\n",
              "      <td>2020-01-30</td>\n",
              "      <td>2020-02-15</td>\n",
              "      <td>NaN</td>\n",
              "      <td>released</td>\n",
              "      <td>overseas</td>\n",
              "      <td>1.00</td>\n",
              "      <td>0.00</td>\n",
              "    </tr>\n",
              "    <tr>\n",
              "      <th>4</th>\n",
              "      <td>1000000005</td>\n",
              "      <td>9.00</td>\n",
              "      <td>female</td>\n",
              "      <td>1992.00</td>\n",
              "      <td>20s</td>\n",
              "      <td>Korea</td>\n",
              "      <td>Seoul</td>\n",
              "      <td>Seongbuk-gu</td>\n",
              "      <td>NaN</td>\n",
              "      <td>contact with patient</td>\n",
              "      <td>2.00</td>\n",
              "      <td>1000000002.00</td>\n",
              "      <td>2.00</td>\n",
              "      <td>NaN</td>\n",
              "      <td>2020-01-31</td>\n",
              "      <td>2020-02-24</td>\n",
              "      <td>NaN</td>\n",
              "      <td>released</td>\n",
              "      <td>individual</td>\n",
              "      <td>1.00</td>\n",
              "      <td>0.00</td>\n",
              "    </tr>\n",
              "  </tbody>\n",
              "</table>\n",
              "</div>"
            ],
            "text/plain": [
              "   patient_id  global_num     sex  ...   infection essential non-essential\n",
              "0  1000000001        2.00    male  ...    overseas      1.00          1.00\n",
              "1  1000000002        5.00    male  ...    overseas      9.00          4.00\n",
              "2  1000000003        6.00    male  ...  individual      0.00          2.00\n",
              "3  1000000004        7.00    male  ...    overseas      1.00          0.00\n",
              "4  1000000005        9.00  female  ...  individual      1.00          0.00\n",
              "\n",
              "[5 rows x 21 columns]"
            ]
          },
          "metadata": {},
          "execution_count": 57
        }
      ]
    },
    {
      "cell_type": "code",
      "metadata": {
        "colab": {
          "base_uri": "https://localhost:8080/"
        },
        "id": "r8naY0A0RaxZ",
        "outputId": "fd76683b-6f1c-4e99-b4ae-d43b6805ce5d"
      },
      "source": [
        "print(data.shape)\n",
        "data[(data['essential'].isna()) | (data['non-essential'].isna())].shape"
      ],
      "execution_count": 60,
      "outputs": [
        {
          "output_type": "stream",
          "name": "stdout",
          "text": [
            "(3374, 21)\n"
          ]
        },
        {
          "output_type": "execute_result",
          "data": {
            "text/plain": [
              "(2170, 21)"
            ]
          },
          "metadata": {},
          "execution_count": 60
        }
      ]
    },
    {
      "cell_type": "markdown",
      "metadata": {
        "id": "htuexFajSl3N"
      },
      "source": [
        "1.3. Number of contacts"
      ]
    },
    {
      "cell_type": "code",
      "metadata": {
        "colab": {
          "base_uri": "https://localhost:8080/",
          "height": 369
        },
        "id": "21AmLF3SSlnv",
        "outputId": "1b2b719e-7074-4c9e-9b17-9df750366706"
      },
      "source": [
        "sns.displot(data['contact_number'])\n",
        "display()"
      ],
      "execution_count": 61,
      "outputs": [
        {
          "output_type": "display_data",
          "data": {
            "image/png": "[encoded data removed]",
            "text/plain": [
              "<Figure size 360x360 with 1 Axes>"
            ]
          },
          "metadata": {
            "needs_background": "light"
          }
        }
      ]
    },
    {
      "cell_type": "code",
      "metadata": {
        "colab": {
          "base_uri": "https://localhost:8080/"
        },
        "id": "GkhXGmJPRlkF",
        "outputId": "d56e37d7-d78c-4529-a1eb-e1c550c9dcca"
      },
      "source": [
        "data['contact_number'].describe()"
      ],
      "execution_count": 62,
      "outputs": [
        {
          "output_type": "execute_result",
          "data": {
            "text/plain": [
              "count    635.00\n",
              "mean      18.22\n",
              "std       74.18\n",
              "min        0.00\n",
              "25%        2.00\n",
              "50%        4.00\n",
              "75%       13.00\n",
              "max     1160.00\n",
              "Name: contact_number, dtype: float64"
            ]
          },
          "metadata": {},
          "execution_count": 62
        }
      ]
    },
    {
      "cell_type": "code",
      "metadata": {
        "colab": {
          "base_uri": "https://localhost:8080/",
          "height": 135
        },
        "id": "2SbhnuLsSwGo",
        "outputId": "59c1bd7c-5526-491d-c866-f6307c66fb97"
      },
      "source": [
        "#contact_number가 max인 data 확인\n",
        "data[data['contact_number'] == 1160] "
      ],
      "execution_count": 63,
      "outputs": [
        {
          "output_type": "execute_result",
          "data": {
            "text/html": [
              "<div>\n",
              "<style scoped>\n",
              "    .dataframe tbody tr th:only-of-type {\n",
              "        vertical-align: middle;\n",
              "    }\n",
              "\n",
              "    .dataframe tbody tr th {\n",
              "        vertical-align: top;\n",
              "    }\n",
              "\n",
              "    .dataframe thead th {\n",
              "        text-align: right;\n",
              "    }\n",
              "</style>\n",
              "<table border=\"1\" class=\"dataframe\">\n",
              "  <thead>\n",
              "    <tr style=\"text-align: right;\">\n",
              "      <th></th>\n",
              "      <th>patient_id</th>\n",
              "      <th>global_num</th>\n",
              "      <th>sex</th>\n",
              "      <th>birth_year</th>\n",
              "      <th>age</th>\n",
              "      <th>country</th>\n",
              "      <th>province</th>\n",
              "      <th>city</th>\n",
              "      <th>disease</th>\n",
              "      <th>infection_case</th>\n",
              "      <th>infection_order</th>\n",
              "      <th>infected_by</th>\n",
              "      <th>contact_number</th>\n",
              "      <th>symptom_onset_date</th>\n",
              "      <th>confirmed_date</th>\n",
              "      <th>released_date</th>\n",
              "      <th>deceased_date</th>\n",
              "      <th>state</th>\n",
              "      <th>infection</th>\n",
              "      <th>essential</th>\n",
              "      <th>non-essential</th>\n",
              "    </tr>\n",
              "  </thead>\n",
              "  <tbody>\n",
              "    <tr>\n",
              "      <th>764</th>\n",
              "      <td>1200000031</td>\n",
              "      <td>31.00</td>\n",
              "      <td>female</td>\n",
              "      <td>1959.00</td>\n",
              "      <td>60s</td>\n",
              "      <td>Korea</td>\n",
              "      <td>Daegu</td>\n",
              "      <td>NaN</td>\n",
              "      <td>NaN</td>\n",
              "      <td>Shincheonji Church</td>\n",
              "      <td>nan</td>\n",
              "      <td>nan</td>\n",
              "      <td>1160.00</td>\n",
              "      <td>NaN</td>\n",
              "      <td>2020-02-18</td>\n",
              "      <td>NaN</td>\n",
              "      <td>NaN</td>\n",
              "      <td>isolated</td>\n",
              "      <td>group</td>\n",
              "      <td>11.00</td>\n",
              "      <td>5.00</td>\n",
              "    </tr>\n",
              "  </tbody>\n",
              "</table>\n",
              "</div>"
            ],
            "text/plain": [
              "     patient_id  global_num     sex  ...  infection essential non-essential\n",
              "764  1200000031       31.00  female  ...      group     11.00          5.00\n",
              "\n",
              "[1 rows x 21 columns]"
            ]
          },
          "metadata": {},
          "execution_count": 63
        }
      ]
    },
    {
      "cell_type": "markdown",
      "metadata": {
        "id": "owcRMlgFTVy0"
      },
      "source": [
        "'극단적 값을 갖는 확진자들을 outlier로 봐야하는지에 조심스러운 해석이 필요합니다. 특히나 이번 분석의 주요 특성 중 하나인 '감염 경로'에 '집단감염'이 있고, 극단적인 접촉 정도를 가진 확진자들은 집단감염의 사례였을 가능성이 있습니다. 또는 극단적 값을 가진 사례가 '개인감염'이었다면, 이는 집단감염과 구분지을 수 있는 척도가 됩니다. \n",
        "\n",
        "*따라서 contact_number의 값을 모두 활용하기로 합니다*.\n",
        "\n",
        "다만 그 값을 갖지 않는 사람들은 위의 '유동성'과 마찬가지로 \"접촉이 없었다\"고 확신할 근거가 없습니다. 따라서 접촉 횟수의 값이 없는 사람들은 모두 제거합니다'"
      ]
    },
    {
      "cell_type": "markdown",
      "metadata": {
        "id": "_Ib635trTcJB"
      },
      "source": [
        "1.4 Diagnosis time"
      ]
    },
    {
      "cell_type": "code",
      "metadata": {
        "colab": {
          "base_uri": "https://localhost:8080/"
        },
        "id": "cUJuE1txS0Kk",
        "outputId": "056feb5f-7818-45d2-c379-80c91ed630eb"
      },
      "source": [
        "print('data shape:', data.shape)\n",
        "print('missing values in symptom_onset_date:', data[data['symptom_onset_date'].isna()].shape)\n",
        "print('missing values in confirmed_date:', data[data['confirmed_date'].isna()].shape)"
      ],
      "execution_count": 64,
      "outputs": [
        {
          "output_type": "stream",
          "name": "stdout",
          "text": [
            "data shape: (3374, 21)\n",
            "missing values in symptom_onset_date: (2900, 21)\n",
            "missing values in confirmed_date: (3, 21)\n"
          ]
        }
      ]
    },
    {
      "cell_type": "code",
      "metadata": {
        "id": "hetY5CYlTyzf"
      },
      "source": [
        ""
      ],
      "execution_count": null,
      "outputs": []
    }
  ]
}